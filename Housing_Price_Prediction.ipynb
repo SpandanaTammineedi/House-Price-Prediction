{
 "cells": [
  {
   "cell_type": "code",
   "execution_count": 1,
   "id": "6828a0ea",
   "metadata": {},
   "outputs": [],
   "source": [
    "import pandas as pd\n",
    "import numpy as np\n",
    "import seaborn as sns\n",
    "import matplotlib.pyplot as plt \n",
    "%matplotlib inline\n",
    "import os"
   ]
  },
  {
   "cell_type": "code",
   "execution_count": 2,
   "id": "5de7ba58",
   "metadata": {},
   "outputs": [
    {
     "data": {
      "text/plain": [
       "['Housing_Price_Prediction.ipynb', '.ipynb_checkpoints', 'kc_house_data.csv']"
      ]
     },
     "execution_count": 2,
     "metadata": {},
     "output_type": "execute_result"
    }
   ],
   "source": [
    "os.listdir()"
   ]
  },
  {
   "cell_type": "code",
   "execution_count": 3,
   "id": "11bb9787",
   "metadata": {},
   "outputs": [],
   "source": [
    "#Read the file and save as data frame\n",
    "data = pd.read_csv('kc_house_data.csv')"
   ]
  },
  {
   "cell_type": "code",
   "execution_count": 4,
   "id": "2b232ede",
   "metadata": {},
   "outputs": [
    {
     "name": "stdout",
     "output_type": "stream",
     "text": [
      "<class 'pandas.core.frame.DataFrame'>\n",
      "RangeIndex: 21597 entries, 0 to 21596\n",
      "Data columns (total 21 columns):\n",
      " #   Column         Non-Null Count  Dtype  \n",
      "---  ------         --------------  -----  \n",
      " 0   id             21597 non-null  int64  \n",
      " 1   date           21597 non-null  object \n",
      " 2   price          21597 non-null  float64\n",
      " 3   bedrooms       21597 non-null  int64  \n",
      " 4   bathrooms      21597 non-null  float64\n",
      " 5   sqft_living    21597 non-null  int64  \n",
      " 6   sqft_lot       21597 non-null  int64  \n",
      " 7   floors         21597 non-null  float64\n",
      " 8   waterfront     21597 non-null  int64  \n",
      " 9   view           21597 non-null  int64  \n",
      " 10  condition      21597 non-null  int64  \n",
      " 11  grade          21597 non-null  int64  \n",
      " 12  sqft_above     21597 non-null  int64  \n",
      " 13  sqft_basement  21597 non-null  int64  \n",
      " 14  yr_built       21597 non-null  int64  \n",
      " 15  yr_renovated   21597 non-null  int64  \n",
      " 16  zipcode        21597 non-null  int64  \n",
      " 17  lat            21597 non-null  float64\n",
      " 18  long           21597 non-null  float64\n",
      " 19  sqft_living15  21597 non-null  int64  \n",
      " 20  sqft_lot15     21597 non-null  int64  \n",
      "dtypes: float64(5), int64(15), object(1)\n",
      "memory usage: 3.5+ MB\n"
     ]
    }
   ],
   "source": [
    "data.info()"
   ]
  },
  {
   "cell_type": "code",
   "execution_count": 5,
   "id": "fa8838a3",
   "metadata": {},
   "outputs": [
    {
     "data": {
      "text/plain": [
       "(21597, 21)"
      ]
     },
     "execution_count": 5,
     "metadata": {},
     "output_type": "execute_result"
    }
   ],
   "source": [
    "data.shape"
   ]
  },
  {
   "cell_type": "code",
   "execution_count": 23,
   "id": "32ef3e80",
   "metadata": {},
   "outputs": [
    {
     "data": {
      "text/html": [
       "<div>\n",
       "<style scoped>\n",
       "    .dataframe tbody tr th:only-of-type {\n",
       "        vertical-align: middle;\n",
       "    }\n",
       "\n",
       "    .dataframe tbody tr th {\n",
       "        vertical-align: top;\n",
       "    }\n",
       "\n",
       "    .dataframe thead th {\n",
       "        text-align: right;\n",
       "    }\n",
       "</style>\n",
       "<table border=\"1\" class=\"dataframe\">\n",
       "  <thead>\n",
       "    <tr style=\"text-align: right;\">\n",
       "      <th></th>\n",
       "      <th>id</th>\n",
       "      <th>date</th>\n",
       "      <th>price</th>\n",
       "      <th>bedrooms</th>\n",
       "      <th>bathrooms</th>\n",
       "      <th>sqft_living</th>\n",
       "      <th>sqft_lot</th>\n",
       "      <th>floors</th>\n",
       "      <th>waterfront</th>\n",
       "      <th>view</th>\n",
       "      <th>...</th>\n",
       "      <th>grade</th>\n",
       "      <th>sqft_above</th>\n",
       "      <th>sqft_basement</th>\n",
       "      <th>yr_built</th>\n",
       "      <th>yr_renovated</th>\n",
       "      <th>zipcode</th>\n",
       "      <th>lat</th>\n",
       "      <th>long</th>\n",
       "      <th>sqft_living15</th>\n",
       "      <th>sqft_lot15</th>\n",
       "    </tr>\n",
       "  </thead>\n",
       "  <tbody>\n",
       "    <tr>\n",
       "      <th>0</th>\n",
       "      <td>7129300520</td>\n",
       "      <td>10/13/2014</td>\n",
       "      <td>221900.0</td>\n",
       "      <td>3</td>\n",
       "      <td>1.00</td>\n",
       "      <td>1180</td>\n",
       "      <td>5650</td>\n",
       "      <td>1.0</td>\n",
       "      <td>0</td>\n",
       "      <td>0</td>\n",
       "      <td>...</td>\n",
       "      <td>7</td>\n",
       "      <td>1180</td>\n",
       "      <td>0</td>\n",
       "      <td>1955</td>\n",
       "      <td>0</td>\n",
       "      <td>98178</td>\n",
       "      <td>47.5112</td>\n",
       "      <td>-122.257</td>\n",
       "      <td>1340</td>\n",
       "      <td>5650</td>\n",
       "    </tr>\n",
       "    <tr>\n",
       "      <th>1</th>\n",
       "      <td>6414100192</td>\n",
       "      <td>12/9/2014</td>\n",
       "      <td>538000.0</td>\n",
       "      <td>3</td>\n",
       "      <td>2.25</td>\n",
       "      <td>2570</td>\n",
       "      <td>7242</td>\n",
       "      <td>2.0</td>\n",
       "      <td>0</td>\n",
       "      <td>0</td>\n",
       "      <td>...</td>\n",
       "      <td>7</td>\n",
       "      <td>2170</td>\n",
       "      <td>400</td>\n",
       "      <td>1951</td>\n",
       "      <td>1991</td>\n",
       "      <td>98125</td>\n",
       "      <td>47.7210</td>\n",
       "      <td>-122.319</td>\n",
       "      <td>1690</td>\n",
       "      <td>7639</td>\n",
       "    </tr>\n",
       "    <tr>\n",
       "      <th>2</th>\n",
       "      <td>5631500400</td>\n",
       "      <td>2/25/2015</td>\n",
       "      <td>180000.0</td>\n",
       "      <td>2</td>\n",
       "      <td>1.00</td>\n",
       "      <td>770</td>\n",
       "      <td>10000</td>\n",
       "      <td>1.0</td>\n",
       "      <td>0</td>\n",
       "      <td>0</td>\n",
       "      <td>...</td>\n",
       "      <td>6</td>\n",
       "      <td>770</td>\n",
       "      <td>0</td>\n",
       "      <td>1933</td>\n",
       "      <td>0</td>\n",
       "      <td>98028</td>\n",
       "      <td>47.7379</td>\n",
       "      <td>-122.233</td>\n",
       "      <td>2720</td>\n",
       "      <td>8062</td>\n",
       "    </tr>\n",
       "    <tr>\n",
       "      <th>3</th>\n",
       "      <td>2487200875</td>\n",
       "      <td>12/9/2014</td>\n",
       "      <td>604000.0</td>\n",
       "      <td>4</td>\n",
       "      <td>3.00</td>\n",
       "      <td>1960</td>\n",
       "      <td>5000</td>\n",
       "      <td>1.0</td>\n",
       "      <td>0</td>\n",
       "      <td>0</td>\n",
       "      <td>...</td>\n",
       "      <td>7</td>\n",
       "      <td>1050</td>\n",
       "      <td>910</td>\n",
       "      <td>1965</td>\n",
       "      <td>0</td>\n",
       "      <td>98136</td>\n",
       "      <td>47.5208</td>\n",
       "      <td>-122.393</td>\n",
       "      <td>1360</td>\n",
       "      <td>5000</td>\n",
       "    </tr>\n",
       "    <tr>\n",
       "      <th>4</th>\n",
       "      <td>1954400510</td>\n",
       "      <td>2/18/2015</td>\n",
       "      <td>510000.0</td>\n",
       "      <td>3</td>\n",
       "      <td>2.00</td>\n",
       "      <td>1680</td>\n",
       "      <td>8080</td>\n",
       "      <td>1.0</td>\n",
       "      <td>0</td>\n",
       "      <td>0</td>\n",
       "      <td>...</td>\n",
       "      <td>8</td>\n",
       "      <td>1680</td>\n",
       "      <td>0</td>\n",
       "      <td>1987</td>\n",
       "      <td>0</td>\n",
       "      <td>98074</td>\n",
       "      <td>47.6168</td>\n",
       "      <td>-122.045</td>\n",
       "      <td>1800</td>\n",
       "      <td>7503</td>\n",
       "    </tr>\n",
       "  </tbody>\n",
       "</table>\n",
       "<p>5 rows × 21 columns</p>\n",
       "</div>"
      ],
      "text/plain": [
       "           id        date     price  bedrooms  bathrooms  sqft_living  \\\n",
       "0  7129300520  10/13/2014  221900.0         3       1.00         1180   \n",
       "1  6414100192   12/9/2014  538000.0         3       2.25         2570   \n",
       "2  5631500400   2/25/2015  180000.0         2       1.00          770   \n",
       "3  2487200875   12/9/2014  604000.0         4       3.00         1960   \n",
       "4  1954400510   2/18/2015  510000.0         3       2.00         1680   \n",
       "\n",
       "   sqft_lot  floors  waterfront  view  ...  grade  sqft_above  sqft_basement  \\\n",
       "0      5650     1.0           0     0  ...      7        1180              0   \n",
       "1      7242     2.0           0     0  ...      7        2170            400   \n",
       "2     10000     1.0           0     0  ...      6         770              0   \n",
       "3      5000     1.0           0     0  ...      7        1050            910   \n",
       "4      8080     1.0           0     0  ...      8        1680              0   \n",
       "\n",
       "   yr_built  yr_renovated  zipcode      lat     long  sqft_living15  \\\n",
       "0      1955             0    98178  47.5112 -122.257           1340   \n",
       "1      1951          1991    98125  47.7210 -122.319           1690   \n",
       "2      1933             0    98028  47.7379 -122.233           2720   \n",
       "3      1965             0    98136  47.5208 -122.393           1360   \n",
       "4      1987             0    98074  47.6168 -122.045           1800   \n",
       "\n",
       "   sqft_lot15  \n",
       "0        5650  \n",
       "1        7639  \n",
       "2        8062  \n",
       "3        5000  \n",
       "4        7503  \n",
       "\n",
       "[5 rows x 21 columns]"
      ]
     },
     "execution_count": 23,
     "metadata": {},
     "output_type": "execute_result"
    }
   ],
   "source": [
    "data.head()"
   ]
  },
  {
   "cell_type": "code",
   "execution_count": 6,
   "id": "d001358d",
   "metadata": {},
   "outputs": [
    {
     "data": {
      "text/html": [
       "<div>\n",
       "<style scoped>\n",
       "    .dataframe tbody tr th:only-of-type {\n",
       "        vertical-align: middle;\n",
       "    }\n",
       "\n",
       "    .dataframe tbody tr th {\n",
       "        vertical-align: top;\n",
       "    }\n",
       "\n",
       "    .dataframe thead th {\n",
       "        text-align: right;\n",
       "    }\n",
       "</style>\n",
       "<table border=\"1\" class=\"dataframe\">\n",
       "  <thead>\n",
       "    <tr style=\"text-align: right;\">\n",
       "      <th></th>\n",
       "      <th>count</th>\n",
       "      <th>mean</th>\n",
       "      <th>std</th>\n",
       "      <th>min</th>\n",
       "      <th>25%</th>\n",
       "      <th>50%</th>\n",
       "      <th>75%</th>\n",
       "      <th>max</th>\n",
       "    </tr>\n",
       "  </thead>\n",
       "  <tbody>\n",
       "    <tr>\n",
       "      <th>id</th>\n",
       "      <td>21597.0</td>\n",
       "      <td>4.580474e+09</td>\n",
       "      <td>2.876736e+09</td>\n",
       "      <td>1.000102e+06</td>\n",
       "      <td>2.123049e+09</td>\n",
       "      <td>3.904930e+09</td>\n",
       "      <td>7.308900e+09</td>\n",
       "      <td>9.900000e+09</td>\n",
       "    </tr>\n",
       "    <tr>\n",
       "      <th>price</th>\n",
       "      <td>21597.0</td>\n",
       "      <td>5.402966e+05</td>\n",
       "      <td>3.673681e+05</td>\n",
       "      <td>7.800000e+04</td>\n",
       "      <td>3.220000e+05</td>\n",
       "      <td>4.500000e+05</td>\n",
       "      <td>6.450000e+05</td>\n",
       "      <td>7.700000e+06</td>\n",
       "    </tr>\n",
       "    <tr>\n",
       "      <th>bedrooms</th>\n",
       "      <td>21597.0</td>\n",
       "      <td>3.373200e+00</td>\n",
       "      <td>9.262989e-01</td>\n",
       "      <td>1.000000e+00</td>\n",
       "      <td>3.000000e+00</td>\n",
       "      <td>3.000000e+00</td>\n",
       "      <td>4.000000e+00</td>\n",
       "      <td>3.300000e+01</td>\n",
       "    </tr>\n",
       "    <tr>\n",
       "      <th>bathrooms</th>\n",
       "      <td>21597.0</td>\n",
       "      <td>2.115826e+00</td>\n",
       "      <td>7.689843e-01</td>\n",
       "      <td>5.000000e-01</td>\n",
       "      <td>1.750000e+00</td>\n",
       "      <td>2.250000e+00</td>\n",
       "      <td>2.500000e+00</td>\n",
       "      <td>8.000000e+00</td>\n",
       "    </tr>\n",
       "    <tr>\n",
       "      <th>sqft_living</th>\n",
       "      <td>21597.0</td>\n",
       "      <td>2.080322e+03</td>\n",
       "      <td>9.181061e+02</td>\n",
       "      <td>3.700000e+02</td>\n",
       "      <td>1.430000e+03</td>\n",
       "      <td>1.910000e+03</td>\n",
       "      <td>2.550000e+03</td>\n",
       "      <td>1.354000e+04</td>\n",
       "    </tr>\n",
       "    <tr>\n",
       "      <th>sqft_lot</th>\n",
       "      <td>21597.0</td>\n",
       "      <td>1.509941e+04</td>\n",
       "      <td>4.141264e+04</td>\n",
       "      <td>5.200000e+02</td>\n",
       "      <td>5.040000e+03</td>\n",
       "      <td>7.618000e+03</td>\n",
       "      <td>1.068500e+04</td>\n",
       "      <td>1.651359e+06</td>\n",
       "    </tr>\n",
       "    <tr>\n",
       "      <th>floors</th>\n",
       "      <td>21597.0</td>\n",
       "      <td>1.494096e+00</td>\n",
       "      <td>5.396828e-01</td>\n",
       "      <td>1.000000e+00</td>\n",
       "      <td>1.000000e+00</td>\n",
       "      <td>1.500000e+00</td>\n",
       "      <td>2.000000e+00</td>\n",
       "      <td>3.500000e+00</td>\n",
       "    </tr>\n",
       "    <tr>\n",
       "      <th>waterfront</th>\n",
       "      <td>21597.0</td>\n",
       "      <td>7.547345e-03</td>\n",
       "      <td>8.654900e-02</td>\n",
       "      <td>0.000000e+00</td>\n",
       "      <td>0.000000e+00</td>\n",
       "      <td>0.000000e+00</td>\n",
       "      <td>0.000000e+00</td>\n",
       "      <td>1.000000e+00</td>\n",
       "    </tr>\n",
       "    <tr>\n",
       "      <th>view</th>\n",
       "      <td>21597.0</td>\n",
       "      <td>2.342918e-01</td>\n",
       "      <td>7.663898e-01</td>\n",
       "      <td>0.000000e+00</td>\n",
       "      <td>0.000000e+00</td>\n",
       "      <td>0.000000e+00</td>\n",
       "      <td>0.000000e+00</td>\n",
       "      <td>4.000000e+00</td>\n",
       "    </tr>\n",
       "    <tr>\n",
       "      <th>condition</th>\n",
       "      <td>21597.0</td>\n",
       "      <td>3.409825e+00</td>\n",
       "      <td>6.505456e-01</td>\n",
       "      <td>1.000000e+00</td>\n",
       "      <td>3.000000e+00</td>\n",
       "      <td>3.000000e+00</td>\n",
       "      <td>4.000000e+00</td>\n",
       "      <td>5.000000e+00</td>\n",
       "    </tr>\n",
       "    <tr>\n",
       "      <th>grade</th>\n",
       "      <td>21597.0</td>\n",
       "      <td>7.657915e+00</td>\n",
       "      <td>1.173200e+00</td>\n",
       "      <td>3.000000e+00</td>\n",
       "      <td>7.000000e+00</td>\n",
       "      <td>7.000000e+00</td>\n",
       "      <td>8.000000e+00</td>\n",
       "      <td>1.300000e+01</td>\n",
       "    </tr>\n",
       "    <tr>\n",
       "      <th>sqft_above</th>\n",
       "      <td>21597.0</td>\n",
       "      <td>1.788597e+03</td>\n",
       "      <td>8.277598e+02</td>\n",
       "      <td>3.700000e+02</td>\n",
       "      <td>1.190000e+03</td>\n",
       "      <td>1.560000e+03</td>\n",
       "      <td>2.210000e+03</td>\n",
       "      <td>9.410000e+03</td>\n",
       "    </tr>\n",
       "    <tr>\n",
       "      <th>sqft_basement</th>\n",
       "      <td>21597.0</td>\n",
       "      <td>2.917250e+02</td>\n",
       "      <td>4.426678e+02</td>\n",
       "      <td>0.000000e+00</td>\n",
       "      <td>0.000000e+00</td>\n",
       "      <td>0.000000e+00</td>\n",
       "      <td>5.600000e+02</td>\n",
       "      <td>4.820000e+03</td>\n",
       "    </tr>\n",
       "    <tr>\n",
       "      <th>yr_built</th>\n",
       "      <td>21597.0</td>\n",
       "      <td>1.971000e+03</td>\n",
       "      <td>2.937523e+01</td>\n",
       "      <td>1.900000e+03</td>\n",
       "      <td>1.951000e+03</td>\n",
       "      <td>1.975000e+03</td>\n",
       "      <td>1.997000e+03</td>\n",
       "      <td>2.015000e+03</td>\n",
       "    </tr>\n",
       "    <tr>\n",
       "      <th>yr_renovated</th>\n",
       "      <td>21597.0</td>\n",
       "      <td>8.446479e+01</td>\n",
       "      <td>4.018214e+02</td>\n",
       "      <td>0.000000e+00</td>\n",
       "      <td>0.000000e+00</td>\n",
       "      <td>0.000000e+00</td>\n",
       "      <td>0.000000e+00</td>\n",
       "      <td>2.015000e+03</td>\n",
       "    </tr>\n",
       "    <tr>\n",
       "      <th>zipcode</th>\n",
       "      <td>21597.0</td>\n",
       "      <td>9.807795e+04</td>\n",
       "      <td>5.351307e+01</td>\n",
       "      <td>9.800100e+04</td>\n",
       "      <td>9.803300e+04</td>\n",
       "      <td>9.806500e+04</td>\n",
       "      <td>9.811800e+04</td>\n",
       "      <td>9.819900e+04</td>\n",
       "    </tr>\n",
       "    <tr>\n",
       "      <th>lat</th>\n",
       "      <td>21597.0</td>\n",
       "      <td>4.756009e+01</td>\n",
       "      <td>1.385518e-01</td>\n",
       "      <td>4.715590e+01</td>\n",
       "      <td>4.747110e+01</td>\n",
       "      <td>4.757180e+01</td>\n",
       "      <td>4.767800e+01</td>\n",
       "      <td>4.777760e+01</td>\n",
       "    </tr>\n",
       "    <tr>\n",
       "      <th>long</th>\n",
       "      <td>21597.0</td>\n",
       "      <td>-1.222140e+02</td>\n",
       "      <td>1.407235e-01</td>\n",
       "      <td>-1.225190e+02</td>\n",
       "      <td>-1.223280e+02</td>\n",
       "      <td>-1.222310e+02</td>\n",
       "      <td>-1.221250e+02</td>\n",
       "      <td>-1.213150e+02</td>\n",
       "    </tr>\n",
       "    <tr>\n",
       "      <th>sqft_living15</th>\n",
       "      <td>21597.0</td>\n",
       "      <td>1.986620e+03</td>\n",
       "      <td>6.852305e+02</td>\n",
       "      <td>3.990000e+02</td>\n",
       "      <td>1.490000e+03</td>\n",
       "      <td>1.840000e+03</td>\n",
       "      <td>2.360000e+03</td>\n",
       "      <td>6.210000e+03</td>\n",
       "    </tr>\n",
       "    <tr>\n",
       "      <th>sqft_lot15</th>\n",
       "      <td>21597.0</td>\n",
       "      <td>1.275828e+04</td>\n",
       "      <td>2.727444e+04</td>\n",
       "      <td>6.510000e+02</td>\n",
       "      <td>5.100000e+03</td>\n",
       "      <td>7.620000e+03</td>\n",
       "      <td>1.008300e+04</td>\n",
       "      <td>8.712000e+05</td>\n",
       "    </tr>\n",
       "  </tbody>\n",
       "</table>\n",
       "</div>"
      ],
      "text/plain": [
       "                 count          mean           std           min  \\\n",
       "id             21597.0  4.580474e+09  2.876736e+09  1.000102e+06   \n",
       "price          21597.0  5.402966e+05  3.673681e+05  7.800000e+04   \n",
       "bedrooms       21597.0  3.373200e+00  9.262989e-01  1.000000e+00   \n",
       "bathrooms      21597.0  2.115826e+00  7.689843e-01  5.000000e-01   \n",
       "sqft_living    21597.0  2.080322e+03  9.181061e+02  3.700000e+02   \n",
       "sqft_lot       21597.0  1.509941e+04  4.141264e+04  5.200000e+02   \n",
       "floors         21597.0  1.494096e+00  5.396828e-01  1.000000e+00   \n",
       "waterfront     21597.0  7.547345e-03  8.654900e-02  0.000000e+00   \n",
       "view           21597.0  2.342918e-01  7.663898e-01  0.000000e+00   \n",
       "condition      21597.0  3.409825e+00  6.505456e-01  1.000000e+00   \n",
       "grade          21597.0  7.657915e+00  1.173200e+00  3.000000e+00   \n",
       "sqft_above     21597.0  1.788597e+03  8.277598e+02  3.700000e+02   \n",
       "sqft_basement  21597.0  2.917250e+02  4.426678e+02  0.000000e+00   \n",
       "yr_built       21597.0  1.971000e+03  2.937523e+01  1.900000e+03   \n",
       "yr_renovated   21597.0  8.446479e+01  4.018214e+02  0.000000e+00   \n",
       "zipcode        21597.0  9.807795e+04  5.351307e+01  9.800100e+04   \n",
       "lat            21597.0  4.756009e+01  1.385518e-01  4.715590e+01   \n",
       "long           21597.0 -1.222140e+02  1.407235e-01 -1.225190e+02   \n",
       "sqft_living15  21597.0  1.986620e+03  6.852305e+02  3.990000e+02   \n",
       "sqft_lot15     21597.0  1.275828e+04  2.727444e+04  6.510000e+02   \n",
       "\n",
       "                        25%           50%           75%           max  \n",
       "id             2.123049e+09  3.904930e+09  7.308900e+09  9.900000e+09  \n",
       "price          3.220000e+05  4.500000e+05  6.450000e+05  7.700000e+06  \n",
       "bedrooms       3.000000e+00  3.000000e+00  4.000000e+00  3.300000e+01  \n",
       "bathrooms      1.750000e+00  2.250000e+00  2.500000e+00  8.000000e+00  \n",
       "sqft_living    1.430000e+03  1.910000e+03  2.550000e+03  1.354000e+04  \n",
       "sqft_lot       5.040000e+03  7.618000e+03  1.068500e+04  1.651359e+06  \n",
       "floors         1.000000e+00  1.500000e+00  2.000000e+00  3.500000e+00  \n",
       "waterfront     0.000000e+00  0.000000e+00  0.000000e+00  1.000000e+00  \n",
       "view           0.000000e+00  0.000000e+00  0.000000e+00  4.000000e+00  \n",
       "condition      3.000000e+00  3.000000e+00  4.000000e+00  5.000000e+00  \n",
       "grade          7.000000e+00  7.000000e+00  8.000000e+00  1.300000e+01  \n",
       "sqft_above     1.190000e+03  1.560000e+03  2.210000e+03  9.410000e+03  \n",
       "sqft_basement  0.000000e+00  0.000000e+00  5.600000e+02  4.820000e+03  \n",
       "yr_built       1.951000e+03  1.975000e+03  1.997000e+03  2.015000e+03  \n",
       "yr_renovated   0.000000e+00  0.000000e+00  0.000000e+00  2.015000e+03  \n",
       "zipcode        9.803300e+04  9.806500e+04  9.811800e+04  9.819900e+04  \n",
       "lat            4.747110e+01  4.757180e+01  4.767800e+01  4.777760e+01  \n",
       "long          -1.223280e+02 -1.222310e+02 -1.221250e+02 -1.213150e+02  \n",
       "sqft_living15  1.490000e+03  1.840000e+03  2.360000e+03  6.210000e+03  \n",
       "sqft_lot15     5.100000e+03  7.620000e+03  1.008300e+04  8.712000e+05  "
      ]
     },
     "execution_count": 6,
     "metadata": {},
     "output_type": "execute_result"
    }
   ],
   "source": [
    "data.describe().transpose()"
   ]
  },
  {
   "cell_type": "code",
   "execution_count": 7,
   "id": "f778d49d",
   "metadata": {},
   "outputs": [
    {
     "data": {
      "text/plain": [
       "id               0\n",
       "date             0\n",
       "price            0\n",
       "bedrooms         0\n",
       "bathrooms        0\n",
       "sqft_living      0\n",
       "sqft_lot         0\n",
       "floors           0\n",
       "waterfront       0\n",
       "view             0\n",
       "condition        0\n",
       "grade            0\n",
       "sqft_above       0\n",
       "sqft_basement    0\n",
       "yr_built         0\n",
       "yr_renovated     0\n",
       "zipcode          0\n",
       "lat              0\n",
       "long             0\n",
       "sqft_living15    0\n",
       "sqft_lot15       0\n",
       "dtype: int64"
      ]
     },
     "execution_count": 7,
     "metadata": {},
     "output_type": "execute_result"
    }
   ],
   "source": [
    "#To check the presence of null values\n",
    "data.isnull().sum()"
   ]
  },
  {
   "cell_type": "markdown",
   "id": "f3fcc772",
   "metadata": {},
   "source": [
    "The dataset has no null values."
   ]
  },
  {
   "cell_type": "code",
   "execution_count": null,
   "id": "b7019337",
   "metadata": {},
   "outputs": [],
   "source": []
  },
  {
   "cell_type": "code",
   "execution_count": null,
   "id": "9dc52ad9",
   "metadata": {},
   "outputs": [],
   "source": [
    "\n"
   ]
  },
  {
   "cell_type": "code",
   "execution_count": 16,
   "id": "ce4a4b6e",
   "metadata": {},
   "outputs": [
    {
     "data": {
      "text/plain": [
       "<seaborn.axisgrid.FacetGrid at 0x7fce4d5a8d10>"
      ]
     },
     "execution_count": 16,
     "metadata": {},
     "output_type": "execute_result"
    },
    {
     "data": {
      "text/plain": [
       "<Figure size 864x576 with 0 Axes>"
      ]
     },
     "metadata": {},
     "output_type": "display_data"
    },
    {
     "data": {
      "image/png": "[encoded data removed]",
      "text/plain": [
       "<Figure size 360x360 with 1 Axes>"
      ]
     },
     "metadata": {
      "needs_background": "light"
     },
     "output_type": "display_data"
    }
   ],
   "source": [
    "plt.figure(figsize=(12,8))\n",
    "sns.displot(data['price'])"
   ]
  },
  {
   "cell_type": "code",
   "execution_count": 13,
   "id": "eef6403e",
   "metadata": {},
   "outputs": [
    {
     "name": "stderr",
     "output_type": "stream",
     "text": [
      "/Users/spandanatammineedi/Desktop/Anaconda/anaconda3/envs/Tensorflow/lib/python3.7/site-packages/seaborn/_decorators.py:43: FutureWarning: Pass the following variable as a keyword arg: x. From version 0.12, the only valid positional argument will be `data`, and passing other arguments without an explicit keyword will result in an error or misinterpretation.\n",
      "  FutureWarning\n"
     ]
    },
    {
     "data": {
      "text/plain": [
       "<AxesSubplot:xlabel='bedrooms', ylabel='count'>"
      ]
     },
     "execution_count": 13,
     "metadata": {},
     "output_type": "execute_result"
    },
    {
     "data": {
      "image/png": "[encoded data removed]",
      "text/plain": [
       "<Figure size 432x288 with 1 Axes>"
      ]
     },
     "metadata": {
      "needs_background": "light"
     },
     "output_type": "display_data"
    }
   ],
   "source": [
    "sns.countplot(data['bedrooms'])"
   ]
  },
  {
   "cell_type": "code",
   "execution_count": 16,
   "id": "cffb2617",
   "metadata": {},
   "outputs": [
    {
     "name": "stderr",
     "output_type": "stream",
     "text": [
      "/Users/spandanatammineedi/Desktop/Anaconda/anaconda3/envs/Tensorflow/lib/python3.7/site-packages/seaborn/_decorators.py:43: FutureWarning: Pass the following variable as a keyword arg: x. From version 0.12, the only valid positional argument will be `data`, and passing other arguments without an explicit keyword will result in an error or misinterpretation.\n",
      "  FutureWarning\n"
     ]
    },
    {
     "data": {
      "text/plain": [
       "<AxesSubplot:xlabel='bathrooms', ylabel='count'>"
      ]
     },
     "execution_count": 16,
     "metadata": {},
     "output_type": "execute_result"
    },
    {
     "data": {
      "image/png": "[encoded data removed]",
      "text/plain": [
       "<Figure size 864x576 with 1 Axes>"
      ]
     },
     "metadata": {
      "needs_background": "light"
     },
     "output_type": "display_data"
    }
   ],
   "source": [
    "plt.figure(figsize=(12,8))\n",
    "sns.countplot(data['bathrooms'])"
   ]
  },
  {
   "cell_type": "code",
   "execution_count": 20,
   "id": "cc829cf2",
   "metadata": {},
   "outputs": [
    {
     "data": {
      "text/plain": [
       "<AxesSubplot:xlabel='bedrooms', ylabel='price'>"
      ]
     },
     "execution_count": 20,
     "metadata": {},
     "output_type": "execute_result"
    },
    {
     "data": {
      "image/png": "[encoded data removed]",
      "text/plain": [
       "<Figure size 864x576 with 1 Axes>"
      ]
     },
     "metadata": {
      "needs_background": "light"
     },
     "output_type": "display_data"
    }
   ],
   "source": [
    "plt.figure(figsize=(12,8))\n",
    "sns.boxplot(x='bedrooms',y='price',data=data)"
   ]
  },
  {
   "cell_type": "code",
   "execution_count": 21,
   "id": "fa88d727",
   "metadata": {},
   "outputs": [
    {
     "data": {
      "text/plain": [
       "<AxesSubplot:xlabel='waterfront', ylabel='price'>"
      ]
     },
     "execution_count": 21,
     "metadata": {},
     "output_type": "execute_result"
    },
    {
     "data": {
      "image/png": "[encoded data removed]",
      "text/plain": [
       "<Figure size 432x288 with 1 Axes>"
      ]
     },
     "metadata": {
      "needs_background": "light"
     },
     "output_type": "display_data"
    }
   ],
   "source": [
    "sns.boxplot(x='waterfront',y='price',data=data)"
   ]
  },
  {
   "cell_type": "code",
   "execution_count": 24,
   "id": "6a7649ce",
   "metadata": {},
   "outputs": [],
   "source": [
    "#FEATURE ENGINEERING DATE"
   ]
  },
  {
   "cell_type": "code",
   "execution_count": 26,
   "id": "b13894a4",
   "metadata": {},
   "outputs": [],
   "source": [
    "data['date'] = pd.to_datetime(data['date'])\n",
    "data['month'] = data['date'].apply(lambda date:date.month)\n",
    "data['year'] = data['date'].apply(lambda date:date.year)"
   ]
  },
  {
   "cell_type": "code",
   "execution_count": 27,
   "id": "2d60abe6",
   "metadata": {},
   "outputs": [
    {
     "data": {
      "text/plain": [
       "<AxesSubplot:xlabel='month'>"
      ]
     },
     "execution_count": 27,
     "metadata": {},
     "output_type": "execute_result"
    },
    {
     "data": {
      "image/png": "[encoded data removed]",
      "text/plain": [
       "<Figure size 432x288 with 1 Axes>"
      ]
     },
     "metadata": {
      "needs_background": "light"
     },
     "output_type": "display_data"
    }
   ],
   "source": [
    "data.groupby('month').mean()['price'].plot()"
   ]
  },
  {
   "cell_type": "code",
   "execution_count": 28,
   "id": "0d4f4c30",
   "metadata": {},
   "outputs": [
    {
     "data": {
      "text/plain": [
       "<AxesSubplot:xlabel='year'>"
      ]
     },
     "execution_count": 28,
     "metadata": {},
     "output_type": "execute_result"
    },
    {
     "data": {
      "image/png": "[encoded data removed]",
      "text/plain": [
       "<Figure size 432x288 with 1 Axes>"
      ]
     },
     "metadata": {
      "needs_background": "light"
     },
     "output_type": "display_data"
    }
   ],
   "source": [
    "data.groupby('year').mean()['price'].plot()"
   ]
  },
  {
   "cell_type": "code",
   "execution_count": 29,
   "id": "f1a02768",
   "metadata": {},
   "outputs": [
    {
     "data": {
      "text/plain": [
       "Index(['id', 'date', 'price', 'bedrooms', 'bathrooms', 'sqft_living',\n",
       "       'sqft_lot', 'floors', 'waterfront', 'view', 'condition', 'grade',\n",
       "       'sqft_above', 'sqft_basement', 'yr_built', 'yr_renovated', 'zipcode',\n",
       "       'lat', 'long', 'sqft_living15', 'sqft_lot15', 'month', 'year'],\n",
       "      dtype='object')"
      ]
     },
     "execution_count": 29,
     "metadata": {},
     "output_type": "execute_result"
    }
   ],
   "source": [
    "data.columns"
   ]
  },
  {
   "cell_type": "code",
   "execution_count": 30,
   "id": "01920b0b",
   "metadata": {},
   "outputs": [],
   "source": [
    "#Remove features that are not required for training"
   ]
  },
  {
   "cell_type": "code",
   "execution_count": 43,
   "id": "cc289406",
   "metadata": {},
   "outputs": [],
   "source": [
    "data = data.drop('id',axis = 1)\n",
    "data = data.drop('date',axis = 1)\n",
    "data = data.drop('zipcode',axis = 1)"
   ]
  },
  {
   "cell_type": "code",
   "execution_count": 44,
   "id": "96ab0ade",
   "metadata": {},
   "outputs": [
    {
     "data": {
      "text/plain": [
       "(21597, 20)"
      ]
     },
     "execution_count": 44,
     "metadata": {},
     "output_type": "execute_result"
    }
   ],
   "source": [
    "data.shape"
   ]
  },
  {
   "cell_type": "code",
   "execution_count": 45,
   "id": "5573d066",
   "metadata": {},
   "outputs": [
    {
     "data": {
      "text/plain": [
       "0       20683\n",
       "2014       91\n",
       "2013       37\n",
       "2003       36\n",
       "2005       35\n",
       "        ...  \n",
       "1951        1\n",
       "1959        1\n",
       "1948        1\n",
       "1954        1\n",
       "1944        1\n",
       "Name: yr_renovated, Length: 70, dtype: int64"
      ]
     },
     "execution_count": 45,
     "metadata": {},
     "output_type": "execute_result"
    }
   ],
   "source": [
    "data['yr_renovated'].value_counts()"
   ]
  },
  {
   "cell_type": "code",
   "execution_count": 46,
   "id": "1ce78cc7",
   "metadata": {},
   "outputs": [
    {
     "data": {
      "text/plain": [
       "<AxesSubplot:>"
      ]
     },
     "execution_count": 46,
     "metadata": {},
     "output_type": "execute_result"
    },
    {
     "data": {
      "image/png": "[encoded data removed]",
      "text/plain": [
       "<Figure size 864x576 with 2 Axes>"
      ]
     },
     "metadata": {
      "needs_background": "light"
     },
     "output_type": "display_data"
    }
   ],
   "source": [
    "#Correlation\n",
    "plt.figure(figsize=(12,8))\n",
    "sns.heatmap(data.corr(),annot = True, fmt = '.1g', cmap = 'coolwarm')"
   ]
  },
  {
   "cell_type": "code",
   "execution_count": 47,
   "id": "dd96a057",
   "metadata": {},
   "outputs": [],
   "source": [
    "#Price has positive correlation with features like sqft_living,grade,sqft_above,sqft_living15,bathrooms etc. \n",
    "# These features must be included in building the prediction model. "
   ]
  },
  {
   "cell_type": "markdown",
   "id": "f28cf84c",
   "metadata": {},
   "source": [
    "## TEST TRAIN SPLIT"
   ]
  },
  {
   "cell_type": "code",
   "execution_count": 48,
   "id": "bf90b292",
   "metadata": {},
   "outputs": [],
   "source": [
    "X = data.drop('price',axis=1)\n",
    "y = data['price']"
   ]
  },
  {
   "cell_type": "code",
   "execution_count": 49,
   "id": "f20e0a14",
   "metadata": {},
   "outputs": [],
   "source": [
    "from sklearn.model_selection import train_test_split"
   ]
  },
  {
   "cell_type": "code",
   "execution_count": 50,
   "id": "e7a151db",
   "metadata": {},
   "outputs": [],
   "source": [
    "X_train, X_test, y_train, y_test = train_test_split(X,y,test_size=0.3,random_state=101)"
   ]
  },
  {
   "cell_type": "code",
   "execution_count": null,
   "id": "6508bd19",
   "metadata": {},
   "outputs": [],
   "source": []
  },
  {
   "cell_type": "markdown",
   "id": "ec2c790b",
   "metadata": {},
   "source": [
    "## SCALING"
   ]
  },
  {
   "cell_type": "code",
   "execution_count": 52,
   "id": "eae3afea",
   "metadata": {},
   "outputs": [],
   "source": [
    "from sklearn.preprocessing import MinMaxScaler\n",
    "scaler = MinMaxScaler()\n",
    "X_train= scaler.fit_transform(X_train)\n",
    "X_test = scaler.transform(X_test)"
   ]
  },
  {
   "cell_type": "code",
   "execution_count": 53,
   "id": "b0fa794b",
   "metadata": {},
   "outputs": [
    {
     "data": {
      "text/plain": [
       "(6480, 19)"
      ]
     },
     "execution_count": 53,
     "metadata": {},
     "output_type": "execute_result"
    }
   ],
   "source": [
    "X_test.shape"
   ]
  },
  {
   "cell_type": "code",
   "execution_count": 54,
   "id": "7f9ff3ad",
   "metadata": {},
   "outputs": [
    {
     "data": {
      "text/plain": [
       "(15117, 19)"
      ]
     },
     "execution_count": 54,
     "metadata": {},
     "output_type": "execute_result"
    }
   ],
   "source": [
    "X_train.shape"
   ]
  },
  {
   "cell_type": "markdown",
   "id": "86ad7add",
   "metadata": {},
   "source": [
    "## GENERATING A MODEL"
   ]
  },
  {
   "cell_type": "code",
   "execution_count": 64,
   "id": "0c95c34c",
   "metadata": {},
   "outputs": [],
   "source": [
    "from tensorflow.keras.models import Sequential\n",
    "from tensorflow.keras.layers import Dense, Activation\n",
    "from tensorflow.keras.optimizers import Adam"
   ]
  },
  {
   "cell_type": "code",
   "execution_count": 65,
   "id": "5d0e47fe",
   "metadata": {},
   "outputs": [],
   "source": [
    "model = Sequential()\n",
    "\n",
    "model.add(Dense(19,activation='relu'))\n",
    "model.add(Dense(19,activation='relu'))\n",
    "model.add(Dense(19,activation='relu'))\n",
    "model.add(Dense(19,activation='relu'))\n",
    "model.add(Dense(1))\n",
    "\n",
    "model.compile(optimizer='adam',loss='mse')"
   ]
  },
  {
   "cell_type": "code",
   "execution_count": 66,
   "id": "32102e20",
   "metadata": {},
   "outputs": [
    {
     "name": "stderr",
     "output_type": "stream",
     "text": [
      "2021-11-21 05:58:29.094401: I tensorflow/core/platform/cpu_feature_guard.cc:145] This TensorFlow binary is optimized with Intel(R) MKL-DNN to use the following CPU instructions in performance critical operations:  SSE4.1 SSE4.2 AVX AVX2 FMA\n",
      "To enable them in non-MKL-DNN operations, rebuild TensorFlow with the appropriate compiler flags.\n",
      "2021-11-21 05:58:29.094945: I tensorflow/core/common_runtime/process_util.cc:115] Creating new thread pool with default inter op setting: 8. Tune using inter_op_parallelism_threads for best performance.\n"
     ]
    },
    {
     "name": "stdout",
     "output_type": "stream",
     "text": [
      "Train on 15117 samples, validate on 6480 samples\n",
      "Epoch 1/400\n",
      "15117/15117 [==============================] - 2s 108us/sample - loss: 430238358410.2031 - val_loss: 418898188940.3259\n",
      "Epoch 2/400\n",
      "15117/15117 [==============================] - 0s 27us/sample - loss: 428898409055.0707 - val_loss: 414382556268.7210\n",
      "Epoch 3/400\n",
      "15117/15117 [==============================] - 0s 27us/sample - loss: 412059257274.6021 - val_loss: 377013245957.0568\n",
      "Epoch 4/400\n",
      "15117/15117 [==============================] - 0s 27us/sample - loss: 334388873906.7952 - val_loss: 253270920477.7086\n",
      "Epoch 5/400\n",
      "15117/15117 [==============================] - 0s 27us/sample - loss: 183805475046.9876 - val_loss: 115930506894.8543\n",
      "Epoch 6/400\n",
      "15117/15117 [==============================] - 0s 26us/sample - loss: 104283381277.7033 - val_loss: 95354151812.1086\n",
      "Epoch 7/400\n",
      "15117/15117 [==============================] - 0s 27us/sample - loss: 97730032476.5475 - val_loss: 93830998749.2346\n",
      "Epoch 8/400\n",
      "15117/15117 [==============================] - 0s 27us/sample - loss: 96055903065.9734 - val_loss: 92286867552.0790\n",
      "Epoch 9/400\n",
      "15117/15117 [==============================] - 0s 27us/sample - loss: 94414458690.0618 - val_loss: 90703223982.4593\n",
      "Epoch 10/400\n",
      "15117/15117 [==============================] - 0s 27us/sample - loss: 92756984840.8737 - val_loss: 89120577642.1926\n",
      "Epoch 11/400\n",
      "15117/15117 [==============================] - 0s 26us/sample - loss: 90988610155.6700 - val_loss: 87465189770.4296\n",
      "Epoch 12/400\n",
      "15117/15117 [==============================] - 0s 27us/sample - loss: 89177992927.7058 - val_loss: 85733101568.0000\n",
      "Epoch 13/400\n",
      "15117/15117 [==============================] - 0s 30us/sample - loss: 87321468432.2911 - val_loss: 83976771265.4222\n",
      "Epoch 14/400\n",
      "15117/15117 [==============================] - 0s 27us/sample - loss: 85414752047.0951 - val_loss: 81958192438.9926\n",
      "Epoch 15/400\n",
      "15117/15117 [==============================] - 0s 26us/sample - loss: 83426908958.9056 - val_loss: 80000825399.6247\n",
      "Epoch 16/400\n",
      "15117/15117 [==============================] - 0s 26us/sample - loss: 81323490946.0914 - val_loss: 77954876828.1284\n",
      "Epoch 17/400\n",
      "15117/15117 [==============================] - 0s 29us/sample - loss: 79146378228.2813 - val_loss: 75806308205.3531\n",
      "Epoch 18/400\n",
      "15117/15117 [==============================] - 0s 30us/sample - loss: 76883549158.5981 - val_loss: 73627454911.5259\n",
      "Epoch 19/400\n",
      "15117/15117 [==============================] - 0s 32us/sample - loss: 74564132508.9158 - val_loss: 71317827735.7037\n",
      "Epoch 20/400\n",
      "15117/15117 [==============================] - 0s 31us/sample - loss: 72179117004.7221 - val_loss: 69030066272.0790\n",
      "Epoch 21/400\n",
      "15117/15117 [==============================] - 0s 31us/sample - loss: 69720397736.8885 - val_loss: 66610751331.2395\n",
      "Epoch 22/400\n",
      "15117/15117 [==============================] - 0s 31us/sample - loss: 67283469487.7809 - val_loss: 64240026914.7654\n",
      "Epoch 23/400\n",
      "15117/15117 [==============================] - 0s 31us/sample - loss: 64860004818.8524 - val_loss: 61984616397.4321\n",
      "Epoch 24/400\n",
      "15117/15117 [==============================] - 0s 30us/sample - loss: 62507494610.7339 - val_loss: 59738803030.5975\n",
      "Epoch 25/400\n",
      "15117/15117 [==============================] - 0s 32us/sample - loss: 60332790005.3482 - val_loss: 57793032222.3407\n",
      "Epoch 26/400\n",
      "15117/15117 [==============================] - 0s 31us/sample - loss: 58375934371.5033 - val_loss: 56035462864.5926\n",
      "Epoch 27/400\n",
      "15117/15117 [==============================] - 0s 31us/sample - loss: 56600959585.5770 - val_loss: 54386155332.8988\n",
      "Epoch 28/400\n",
      "15117/15117 [==============================] - 0s 31us/sample - loss: 55082743671.7105 - val_loss: 53008067495.5062\n",
      "Epoch 29/400\n",
      "15117/15117 [==============================] - 0s 30us/sample - loss: 53754988795.3091 - val_loss: 51830169124.6617\n",
      "Epoch 30/400\n",
      "15117/15117 [==============================] - 0s 30us/sample - loss: 52607371660.0659 - val_loss: 50804308761.9160\n",
      "Epoch 31/400\n",
      "15117/15117 [==============================] - 0s 29us/sample - loss: 51595833115.5864 - val_loss: 49961162119.9012\n",
      "Epoch 32/400\n",
      "15117/15117 [==============================] - 0s 30us/sample - loss: 50779610679.9857 - val_loss: 49193349580.1679\n",
      "Epoch 33/400\n",
      "15117/15117 [==============================] - 0s 29us/sample - loss: 50028431732.4252 - val_loss: 48523082926.4593\n",
      "Epoch 34/400\n",
      "15117/15117 [==============================] - 1s 34us/sample - loss: 49380265738.5164 - val_loss: 47889239224.5728\n",
      "Epoch 35/400\n",
      "15117/15117 [==============================] - 0s 33us/sample - loss: 48789391003.7642 - val_loss: 47350986241.2642\n",
      "Epoch 36/400\n",
      "15117/15117 [==============================] - 0s 31us/sample - loss: 48195755206.1346 - val_loss: 46798567595.9309\n",
      "Epoch 37/400\n",
      "15117/15117 [==============================] - 0s 29us/sample - loss: 47678111672.4683 - val_loss: 46348226954.4296\n",
      "Epoch 38/400\n",
      "15117/15117 [==============================] - 0s 30us/sample - loss: 47232706077.2968 - val_loss: 45842189976.9679\n",
      "Epoch 39/400\n",
      "15117/15117 [==============================] - 1s 34us/sample - loss: 46723491652.4326 - val_loss: 45400129096.0593\n",
      "Epoch 40/400\n",
      "15117/15117 [==============================] - 1s 34us/sample - loss: 46330992781.8440 - val_loss: 44990917492.9383\n",
      "Epoch 41/400\n",
      "15117/15117 [==============================] - 1s 33us/sample - loss: 45928400864.9759 - val_loss: 44618049338.7852\n",
      "Epoch 42/400\n",
      "15117/15117 [==============================] - 1s 34us/sample - loss: 45555127679.0601 - val_loss: 44262109143.5457\n",
      "Epoch 43/400\n",
      "15117/15117 [==============================] - 0s 30us/sample - loss: 45202811898.1068 - val_loss: 43948643972.7407\n",
      "Epoch 44/400\n",
      "15117/15117 [==============================] - 0s 30us/sample - loss: 44864473785.2981 - val_loss: 43603009637.1358\n",
      "Epoch 45/400\n",
      "15117/15117 [==============================] - 0s 30us/sample - loss: 44525457298.2639 - val_loss: 43308663294.7358\n",
      "Epoch 46/400\n",
      "15117/15117 [==============================] - 0s 30us/sample - loss: 44290327745.9348 - val_loss: 43107391771.1802\n",
      "Epoch 47/400\n",
      "15117/15117 [==============================] - 0s 30us/sample - loss: 43996223451.5568 - val_loss: 42800980286.5778\n",
      "Epoch 48/400\n",
      "15117/15117 [==============================] - 0s 31us/sample - loss: 43739982268.4988 - val_loss: 42539808919.7037\n",
      "Epoch 49/400\n",
      "15117/15117 [==============================] - 0s 30us/sample - loss: 43489030587.0085 - val_loss: 42301555345.3827\n",
      "Epoch 50/400\n",
      "15117/15117 [==============================] - 0s 29us/sample - loss: 43235485385.8940 - val_loss: 42103882709.0173\n",
      "Epoch 51/400\n",
      "15117/15117 [==============================] - 0s 30us/sample - loss: 43030579245.9266 - val_loss: 41800711923.9901\n",
      "Epoch 52/400\n",
      "15117/15117 [==============================] - 0s 30us/sample - loss: 42691091494.3399 - val_loss: 41530360753.6198\n",
      "Epoch 53/400\n",
      "15117/15117 [==============================] - 0s 30us/sample - loss: 42465228449.5220 - val_loss: 41260951010.9235\n",
      "Epoch 54/400\n",
      "15117/15117 [==============================] - 0s 31us/sample - loss: 42172459195.0932 - val_loss: 40983537431.3877\n",
      "Epoch 55/400\n",
      "15117/15117 [==============================] - 0s 31us/sample - loss: 41903859598.7415 - val_loss: 40747941675.6148\n",
      "Epoch 56/400\n",
      "15117/15117 [==============================] - 0s 29us/sample - loss: 41620489678.4494 - val_loss: 40385609283.0025\n",
      "Epoch 57/400\n",
      "15117/15117 [==============================] - 0s 29us/sample - loss: 41291132046.8601 - val_loss: 40081340163.1605\n",
      "Epoch 58/400\n",
      "15117/15117 [==============================] - 0s 29us/sample - loss: 40989336967.0533 - val_loss: 39774164622.8543\n",
      "Epoch 59/400\n",
      "15117/15117 [==============================] - 0s 29us/sample - loss: 40716248933.2857 - val_loss: 39436507292.7605\n",
      "Epoch 60/400\n",
      "15117/15117 [==============================] - 0s 31us/sample - loss: 40381962753.7273 - val_loss: 39118293502.7358\n",
      "Epoch 61/400\n",
      "15117/15117 [==============================] - 0s 30us/sample - loss: 40125000265.6654 - val_loss: 38823830990.6963\n",
      "Epoch 62/400\n",
      "15117/15117 [==============================] - 0s 31us/sample - loss: 39775086898.0417 - val_loss: 38500935381.6494\n",
      "Epoch 63/400\n",
      "15117/15117 [==============================] - 0s 30us/sample - loss: 39499301734.8437 - val_loss: 38194707483.8123\n",
      "Epoch 64/400\n"
     ]
    },
    {
     "name": "stdout",
     "output_type": "stream",
     "text": [
      "15117/15117 [==============================] - 0s 31us/sample - loss: 39223580932.9618 - val_loss: 37900236193.1852\n",
      "Epoch 65/400\n",
      "15117/15117 [==============================] - 0s 30us/sample - loss: 38949485292.7793 - val_loss: 37613567560.0593\n",
      "Epoch 66/400\n",
      "15117/15117 [==============================] - 0s 30us/sample - loss: 38646330641.5273 - val_loss: 37335700522.9827\n",
      "Epoch 67/400\n",
      "15117/15117 [==============================] - 0s 30us/sample - loss: 38419052495.9058 - val_loss: 37073690452.0691\n",
      "Epoch 68/400\n",
      "15117/15117 [==============================] - 0s 29us/sample - loss: 38174067393.4267 - val_loss: 36883063790.3012\n",
      "Epoch 69/400\n",
      "15117/15117 [==============================] - 0s 29us/sample - loss: 37890052715.5346 - val_loss: 36592013524.3852\n",
      "Epoch 70/400\n",
      "15117/15117 [==============================] - 0s 29us/sample - loss: 37677741148.5983 - val_loss: 36410242723.0815\n",
      "Epoch 71/400\n",
      "15117/15117 [==============================] - 0s 29us/sample - loss: 37524334158.3393 - val_loss: 36187860678.4790\n",
      "Epoch 72/400\n",
      "15117/15117 [==============================] - 0s 29us/sample - loss: 37301312202.0972 - val_loss: 36010411799.3877\n",
      "Epoch 73/400\n",
      "15117/15117 [==============================] - 0s 29us/sample - loss: 37112948653.6980 - val_loss: 35820738241.4222\n",
      "Epoch 74/400\n",
      "15117/15117 [==============================] - 0s 29us/sample - loss: 36921861519.3173 - val_loss: 35652422395.5753\n",
      "Epoch 75/400\n",
      "15117/15117 [==============================] - 0s 29us/sample - loss: 36793263169.7739 - val_loss: 35488485461.9654\n",
      "Epoch 76/400\n",
      "15117/15117 [==============================] - 0s 30us/sample - loss: 36625714969.6898 - val_loss: 35387950431.4469\n",
      "Epoch 77/400\n",
      "15117/15117 [==============================] - 0s 30us/sample - loss: 36517817264.2720 - val_loss: 35186154336.7111\n",
      "Epoch 78/400\n",
      "15117/15117 [==============================] - 0s 32us/sample - loss: 36313355917.2005 - val_loss: 35035288725.1753\n",
      "Epoch 79/400\n",
      "15117/15117 [==============================] - 0s 30us/sample - loss: 36157452630.7558 - val_loss: 34893270412.9580\n",
      "Epoch 80/400\n",
      "15117/15117 [==============================] - 0s 30us/sample - loss: 36044878682.4476 - val_loss: 34789395306.8247\n",
      "Epoch 81/400\n",
      "15117/15117 [==============================] - 0s 30us/sample - loss: 35965249478.1515 - val_loss: 34668506746.6272\n",
      "Epoch 82/400\n",
      "15117/15117 [==============================] - 0s 30us/sample - loss: 35814202631.8407 - val_loss: 34598099308.0889\n",
      "Epoch 83/400\n",
      "15117/15117 [==============================] - 0s 29us/sample - loss: 35671736298.8656 - val_loss: 34442589110.6765\n",
      "Epoch 84/400\n",
      "15117/15117 [==============================] - 0s 30us/sample - loss: 35569066225.4193 - val_loss: 34333975357.3136\n",
      "Epoch 85/400\n",
      "15117/15117 [==============================] - 0s 30us/sample - loss: 35484214230.4087 - val_loss: 34235106544.1975\n",
      "Epoch 86/400\n",
      "15117/15117 [==============================] - 0s 29us/sample - loss: 35357198664.1244 - val_loss: 34132415996.2074\n",
      "Epoch 87/400\n",
      "15117/15117 [==============================] - 0s 29us/sample - loss: 35276307414.2055 - val_loss: 34235917203.2790\n",
      "Epoch 88/400\n",
      "15117/15117 [==============================] - 0s 28us/sample - loss: 35202523093.7313 - val_loss: 33934744477.3926\n",
      "Epoch 89/400\n",
      "15117/15117 [==============================] - 0s 29us/sample - loss: 35136717445.4445 - val_loss: 33927937228.8000\n",
      "Epoch 90/400\n",
      "15117/15117 [==============================] - 0s 29us/sample - loss: 35007055911.4237 - val_loss: 33743305831.6642\n",
      "Epoch 91/400\n",
      "15117/15117 [==============================] - 0s 29us/sample - loss: 34905859573.5344 - val_loss: 33675904862.1827\n",
      "Epoch 92/400\n",
      "15117/15117 [==============================] - 0s 29us/sample - loss: 34840608369.5633 - val_loss: 33582511136.8691\n",
      "Epoch 93/400\n",
      "15117/15117 [==============================] - 0s 30us/sample - loss: 34737891824.0476 - val_loss: 33498506197.0173\n",
      "Epoch 94/400\n",
      "15117/15117 [==============================] - 0s 30us/sample - loss: 34638711936.6350 - val_loss: 33420033350.1630\n",
      "Epoch 95/400\n",
      "15117/15117 [==============================] - 0s 30us/sample - loss: 34566536043.8563 - val_loss: 33337131923.2790\n",
      "Epoch 96/400\n",
      "15117/15117 [==============================] - 0s 30us/sample - loss: 34480302097.7474 - val_loss: 33249268955.9704\n",
      "Epoch 97/400\n",
      "15117/15117 [==============================] - 0s 29us/sample - loss: 34421804233.3860 - val_loss: 33281934358.7556\n",
      "Epoch 98/400\n",
      "15117/15117 [==============================] - 0s 31us/sample - loss: 34396372124.9497 - val_loss: 33199910755.2395\n",
      "Epoch 99/400\n",
      "15117/15117 [==============================] - 0s 30us/sample - loss: 34273415800.8113 - val_loss: 33059845430.9926\n",
      "Epoch 100/400\n",
      "15117/15117 [==============================] - 0s 31us/sample - loss: 34213015919.1416 - val_loss: 32954272214.2815\n",
      "Epoch 101/400\n",
      "15117/15117 [==============================] - 0s 31us/sample - loss: 34173590132.2051 - val_loss: 32918891026.9630\n",
      "Epoch 102/400\n",
      "15117/15117 [==============================] - 0s 30us/sample - loss: 34114395005.4683 - val_loss: 32821918024.6914\n",
      "Epoch 103/400\n",
      "15117/15117 [==============================] - 0s 29us/sample - loss: 34025161736.3318 - val_loss: 32747602354.8839\n",
      "Epoch 104/400\n",
      "15117/15117 [==============================] - 0s 31us/sample - loss: 33969582351.5629 - val_loss: 32746050810.3111\n",
      "Epoch 105/400\n",
      "15117/15117 [==============================] - 0s 29us/sample - loss: 33898324006.1367 - val_loss: 32650161872.5926\n",
      "Epoch 106/400\n",
      "15117/15117 [==============================] - 0s 29us/sample - loss: 33854725373.9509 - val_loss: 32634341138.3309\n",
      "Epoch 107/400\n",
      "15117/15117 [==============================] - 0s 30us/sample - loss: 33809940524.2331 - val_loss: 32514743086.1432\n",
      "Epoch 108/400\n",
      "15117/15117 [==============================] - 0s 29us/sample - loss: 33740186603.0350 - val_loss: 32453358543.9605\n",
      "Epoch 109/400\n",
      "15117/15117 [==============================] - 0s 30us/sample - loss: 33707521517.3381 - val_loss: 32424641310.9728\n",
      "Epoch 110/400\n",
      "15117/15117 [==============================] - 0s 29us/sample - loss: 33652383560.8356 - val_loss: 32332722454.1235\n",
      "Epoch 111/400\n",
      "15117/15117 [==============================] - 0s 30us/sample - loss: 33581232675.0546 - val_loss: 32356375149.9852\n",
      "Epoch 112/400\n",
      "15117/15117 [==============================] - 0s 30us/sample - loss: 33506384544.9123 - val_loss: 32279136028.4444\n",
      "Epoch 113/400\n",
      "15117/15117 [==============================] - 0s 30us/sample - loss: 33492233974.1949 - val_loss: 32199503467.4568\n",
      "Epoch 114/400\n",
      "15117/15117 [==============================] - 0s 30us/sample - loss: 33452140023.9730 - val_loss: 32143651382.3605\n",
      "Epoch 115/400\n",
      "15117/15117 [==============================] - 0s 31us/sample - loss: 33423565738.7175 - val_loss: 32089897703.3481\n",
      "Epoch 116/400\n",
      "15117/15117 [==============================] - 0s 31us/sample - loss: 33317588524.6057 - val_loss: 32109865966.3012\n",
      "Epoch 117/400\n",
      "15117/15117 [==============================] - 0s 31us/sample - loss: 33362267603.7330 - val_loss: 31974319581.8667\n",
      "Epoch 118/400\n",
      "15117/15117 [==============================] - 0s 31us/sample - loss: 33252388780.2755 - val_loss: 31997789424.1975\n",
      "Epoch 119/400\n",
      "15117/15117 [==============================] - 0s 30us/sample - loss: 33262658620.4226 - val_loss: 31907104363.4568\n",
      "Epoch 120/400\n",
      "15117/15117 [==============================] - 0s 31us/sample - loss: 33198608397.5477 - val_loss: 31954164136.7704\n",
      "Epoch 121/400\n",
      "15117/15117 [==============================] - 0s 30us/sample - loss: 33210270203.3599 - val_loss: 31818241137.7778\n",
      "Epoch 122/400\n",
      "15117/15117 [==============================] - 0s 31us/sample - loss: 33115326214.8585 - val_loss: 31766258892.8000\n",
      "Epoch 123/400\n",
      "15117/15117 [==============================] - 0s 30us/sample - loss: 33109908700.2850 - val_loss: 31729862195.8321\n",
      "Epoch 124/400\n",
      "15117/15117 [==============================] - 0s 31us/sample - loss: 33057149742.5532 - val_loss: 31673061517.5901\n",
      "Epoch 125/400\n",
      "15117/15117 [==============================] - 0s 30us/sample - loss: 33007290747.0636 - val_loss: 31657687318.1235\n",
      "Epoch 126/400\n",
      "15117/15117 [==============================] - 0s 29us/sample - loss: 32970305795.3022 - val_loss: 31634150589.6296\n",
      "Epoch 127/400\n"
     ]
    },
    {
     "name": "stdout",
     "output_type": "stream",
     "text": [
      "15117/15117 [==============================] - 0s 29us/sample - loss: 32970645335.4671 - val_loss: 31693264157.7086\n",
      "Epoch 128/400\n",
      "15117/15117 [==============================] - 0s 31us/sample - loss: 32936582116.4305 - val_loss: 31538148723.6741\n",
      "Epoch 129/400\n",
      "15117/15117 [==============================] - 0s 30us/sample - loss: 32880357222.5050 - val_loss: 31520750736.1185\n",
      "Epoch 130/400\n",
      "15117/15117 [==============================] - 0s 29us/sample - loss: 32866845045.9155 - val_loss: 31570468560.5926\n",
      "Epoch 131/400\n",
      "15117/15117 [==============================] - 0s 30us/sample - loss: 32836461286.3780 - val_loss: 31483754814.5778\n",
      "Epoch 132/400\n",
      "15117/15117 [==============================] - 0s 31us/sample - loss: 32805139391.5809 - val_loss: 31450919281.1457\n",
      "Epoch 133/400\n",
      "15117/15117 [==============================] - 0s 31us/sample - loss: 32741418327.0945 - val_loss: 31359679247.8025\n",
      "Epoch 134/400\n",
      "15117/15117 [==============================] - 0s 30us/sample - loss: 32722704473.0081 - val_loss: 31301979229.5506\n",
      "Epoch 135/400\n",
      "15117/15117 [==============================] - 0s 31us/sample - loss: 32681054554.6847 - val_loss: 31305136421.2938\n",
      "Epoch 136/400\n",
      "15117/15117 [==============================] - 0s 30us/sample - loss: 32655073844.6665 - val_loss: 31240412946.3309\n",
      "Epoch 137/400\n",
      "15117/15117 [==============================] - 0s 31us/sample - loss: 32632269258.1819 - val_loss: 31200674681.9951\n",
      "Epoch 138/400\n",
      "15117/15117 [==============================] - 0s 31us/sample - loss: 32593157426.6513 - val_loss: 31222751929.8370\n",
      "Epoch 139/400\n",
      "15117/15117 [==============================] - 0s 31us/sample - loss: 32653084302.7585 - val_loss: 31107840910.2222\n",
      "Epoch 140/400\n",
      "15117/15117 [==============================] - 0s 32us/sample - loss: 32573882847.7227 - val_loss: 31076629648.1185\n",
      "Epoch 141/400\n",
      "15117/15117 [==============================] - 0s 31us/sample - loss: 32531366766.8368 - val_loss: 31045869476.9778\n",
      "Epoch 142/400\n",
      "15117/15117 [==============================] - 0s 31us/sample - loss: 32529414346.3343 - val_loss: 31000116717.0370\n",
      "Epoch 143/400\n",
      "15117/15117 [==============================] - 0s 30us/sample - loss: 32509508731.4869 - val_loss: 30969069952.3160\n",
      "Epoch 144/400\n",
      "15117/15117 [==============================] - 0s 31us/sample - loss: 32441905363.6145 - val_loss: 30972197566.8938\n",
      "Epoch 145/400\n",
      "15117/15117 [==============================] - 0s 30us/sample - loss: 32406745154.9254 - val_loss: 30953667267.9506\n",
      "Epoch 146/400\n",
      "15117/15117 [==============================] - 0s 31us/sample - loss: 32367540696.0683 - val_loss: 30907752680.6123\n",
      "Epoch 147/400\n",
      "15117/15117 [==============================] - 0s 30us/sample - loss: 32376490315.1049 - val_loss: 30848210013.5506\n",
      "Epoch 148/400\n",
      "15117/15117 [==============================] - 0s 31us/sample - loss: 32358864551.2798 - val_loss: 30828994125.1161\n",
      "Epoch 149/400\n",
      "15117/15117 [==============================] - 0s 30us/sample - loss: 32325097498.6889 - val_loss: 30769501029.7679\n",
      "Epoch 150/400\n",
      "15117/15117 [==============================] - 0s 31us/sample - loss: 32285217157.4953 - val_loss: 30780432095.7630\n",
      "Epoch 151/400\n",
      "15117/15117 [==============================] - 0s 31us/sample - loss: 32273302257.5887 - val_loss: 30699528171.7728\n",
      "Epoch 152/400\n",
      "15117/15117 [==============================] - 0s 31us/sample - loss: 32226214611.7161 - val_loss: 30769875727.8025\n",
      "Epoch 153/400\n",
      "15117/15117 [==============================] - 0s 31us/sample - loss: 32194813592.7160 - val_loss: 30646573586.9630\n",
      "Epoch 154/400\n",
      "15117/15117 [==============================] - 0s 31us/sample - loss: 32204165190.1091 - val_loss: 30666728015.6444\n",
      "Epoch 155/400\n",
      "15117/15117 [==============================] - 0s 30us/sample - loss: 32212192616.3339 - val_loss: 30639416519.7432\n",
      "Epoch 156/400\n",
      "15117/15117 [==============================] - 0s 30us/sample - loss: 32151076281.9925 - val_loss: 30593856286.9728\n",
      "Epoch 157/400\n",
      "15117/15117 [==============================] - 0s 31us/sample - loss: 32131106169.0992 - val_loss: 30602819690.1926\n",
      "Epoch 158/400\n",
      "15117/15117 [==============================] - 0s 30us/sample - loss: 32119274291.7690 - val_loss: 30567384819.9901\n",
      "Epoch 159/400\n",
      "15117/15117 [==============================] - 0s 31us/sample - loss: 32088922287.7132 - val_loss: 30511765433.2049\n",
      "Epoch 160/400\n",
      "15117/15117 [==============================] - 0s 30us/sample - loss: 32068887239.1168 - val_loss: 30465524237.9062\n",
      "Epoch 161/400\n",
      "15117/15117 [==============================] - 0s 31us/sample - loss: 32080964290.9170 - val_loss: 30424296187.5753\n",
      "Epoch 162/400\n",
      "15117/15117 [==============================] - 0s 30us/sample - loss: 32026672445.4217 - val_loss: 30367686949.2938\n",
      "Epoch 163/400\n",
      "15117/15117 [==============================] - 0s 31us/sample - loss: 32026895697.5400 - val_loss: 30337136902.9531\n",
      "Epoch 164/400\n",
      "15117/15117 [==============================] - 0s 30us/sample - loss: 31960552911.2623 - val_loss: 30343910973.9457\n",
      "Epoch 165/400\n",
      "15117/15117 [==============================] - 0s 31us/sample - loss: 31966615356.7782 - val_loss: 30367678180.8198\n",
      "Epoch 166/400\n",
      "15117/15117 [==============================] - 0s 31us/sample - loss: 31903034176.7748 - val_loss: 30365880259.3185\n",
      "Epoch 167/400\n",
      "15117/15117 [==============================] - 0s 31us/sample - loss: 31918092377.9565 - val_loss: 30288641466.4691\n",
      "Epoch 168/400\n",
      "15117/15117 [==============================] - 0s 30us/sample - loss: 31892870846.1753 - val_loss: 30303127425.5802\n",
      "Epoch 169/400\n",
      "15117/15117 [==============================] - 0s 30us/sample - loss: 31818596232.7806 - val_loss: 30204145886.4988\n",
      "Epoch 170/400\n",
      "15117/15117 [==============================] - 0s 31us/sample - loss: 31857382982.8204 - val_loss: 30208610030.9333\n",
      "Epoch 171/400\n",
      "15117/15117 [==============================] - 0s 30us/sample - loss: 31796039217.2119 - val_loss: 30169175229.6296\n",
      "Epoch 172/400\n",
      "15117/15117 [==============================] - 0s 31us/sample - loss: 31809178704.2699 - val_loss: 30162149001.7975\n",
      "Epoch 173/400\n",
      "15117/15117 [==============================] - 0s 30us/sample - loss: 31768071460.9682 - val_loss: 30140307511.6247\n",
      "Epoch 174/400\n",
      "15117/15117 [==============================] - 0s 31us/sample - loss: 31777406283.8161 - val_loss: 30107880758.9926\n",
      "Epoch 175/400\n",
      "15117/15117 [==============================] - 0s 30us/sample - loss: 31714092498.4460 - val_loss: 30147211213.4321\n",
      "Epoch 176/400\n",
      "15117/15117 [==============================] - 0s 31us/sample - loss: 31711349381.2751 - val_loss: 30084664944.5136\n",
      "Epoch 177/400\n",
      "15117/15117 [==============================] - 0s 30us/sample - loss: 31695345495.8058 - val_loss: 30056679125.6494\n",
      "Epoch 178/400\n",
      "15117/15117 [==============================] - 0s 31us/sample - loss: 31696878202.5725 - val_loss: 30012577832.4543\n",
      "Epoch 179/400\n",
      "15117/15117 [==============================] - 0s 30us/sample - loss: 31649796820.3935 - val_loss: 30044994021.4519\n",
      "Epoch 180/400\n",
      "15117/15117 [==============================] - 0s 31us/sample - loss: 31648812173.3699 - val_loss: 29946618796.5630\n",
      "Epoch 181/400\n",
      "15117/15117 [==============================] - 0s 31us/sample - loss: 31619413003.0413 - val_loss: 29955497953.6593\n",
      "Epoch 182/400\n",
      "15117/15117 [==============================] - 0s 31us/sample - loss: 31614432025.8930 - val_loss: 29930779114.5086\n",
      "Epoch 183/400\n",
      "15117/15117 [==============================] - 0s 31us/sample - loss: 31643443916.0617 - val_loss: 30024668066.4494\n",
      "Epoch 184/400\n",
      "15117/15117 [==============================] - 0s 30us/sample - loss: 31624027399.5020 - val_loss: 29950139490.6074\n",
      "Epoch 185/400\n",
      "15117/15117 [==============================] - 0s 31us/sample - loss: 31554542013.1762 - val_loss: 29959928971.0617\n",
      "Epoch 186/400\n",
      "15117/15117 [==============================] - 0s 29us/sample - loss: 31535657807.6772 - val_loss: 29852518000.5136\n",
      "Epoch 187/400\n",
      "15117/15117 [==============================] - 0s 30us/sample - loss: 31562712707.7849 - val_loss: 29806443284.8593\n",
      "Epoch 188/400\n",
      "15117/15117 [==============================] - 0s 29us/sample - loss: 31500596499.2207 - val_loss: 29809897158.4790\n",
      "Epoch 189/400\n",
      "15117/15117 [==============================] - 0s 30us/sample - loss: 31575264497.3516 - val_loss: 29883552896.9481\n",
      "Epoch 190/400\n"
     ]
    },
    {
     "name": "stdout",
     "output_type": "stream",
     "text": [
      "15117/15117 [==============================] - 0s 30us/sample - loss: 31513664040.9478 - val_loss: 29763952791.7037\n",
      "Epoch 191/400\n",
      "15117/15117 [==============================] - 0s 31us/sample - loss: 31457674805.1407 - val_loss: 29716400476.9185\n",
      "Epoch 192/400\n",
      "15117/15117 [==============================] - 0s 30us/sample - loss: 31447595927.7507 - val_loss: 29725578819.0025\n",
      "Epoch 193/400\n",
      "15117/15117 [==============================] - 0s 31us/sample - loss: 31505008504.9637 - val_loss: 29761874046.4198\n",
      "Epoch 194/400\n",
      "15117/15117 [==============================] - 0s 30us/sample - loss: 31421598535.9550 - val_loss: 29756656318.8938\n",
      "Epoch 195/400\n",
      "15117/15117 [==============================] - 0s 31us/sample - loss: 31420798395.3472 - val_loss: 29709000344.9679\n",
      "Epoch 196/400\n",
      "15117/15117 [==============================] - 0s 32us/sample - loss: 31405030974.7595 - val_loss: 29748359451.1802\n",
      "Epoch 197/400\n",
      "15117/15117 [==============================] - 0s 31us/sample - loss: 31359586503.2861 - val_loss: 29647672469.1753\n",
      "Epoch 198/400\n",
      "15117/15117 [==============================] - 0s 33us/sample - loss: 31355701471.6042 - val_loss: 29712219725.1161\n",
      "Epoch 199/400\n",
      "15117/15117 [==============================] - 0s 31us/sample - loss: 31343751018.0274 - val_loss: 29578732207.7235\n",
      "Epoch 200/400\n",
      "15117/15117 [==============================] - 0s 31us/sample - loss: 31328415140.0452 - val_loss: 29592877551.5654\n",
      "Epoch 201/400\n",
      "15117/15117 [==============================] - 0s 30us/sample - loss: 31321621179.3980 - val_loss: 29598873746.6469\n",
      "Epoch 202/400\n",
      "15117/15117 [==============================] - 0s 30us/sample - loss: 31311313945.9438 - val_loss: 29682896112.1975\n",
      "Epoch 203/400\n",
      "15117/15117 [==============================] - 0s 30us/sample - loss: 31279161268.4040 - val_loss: 29626304871.0321\n",
      "Epoch 204/400\n",
      "15117/15117 [==============================] - 0s 31us/sample - loss: 31249795284.2919 - val_loss: 29699011551.1309\n",
      "Epoch 205/400\n",
      "15117/15117 [==============================] - 0s 30us/sample - loss: 31299069469.6694 - val_loss: 29571233877.9654\n",
      "Epoch 206/400\n",
      "15117/15117 [==============================] - 0s 29us/sample - loss: 31284873712.6911 - val_loss: 29479917886.5778\n",
      "Epoch 207/400\n",
      "15117/15117 [==============================] - 0s 30us/sample - loss: 31232094157.0608 - val_loss: 29500927964.6025\n",
      "Epoch 208/400\n",
      "15117/15117 [==============================] - 0s 31us/sample - loss: 31207705324.9147 - val_loss: 29441261163.4568\n",
      "Epoch 209/400\n",
      "15117/15117 [==============================] - 1s 39us/sample - loss: 31221794195.1784 - val_loss: 29432467754.3506\n",
      "Epoch 210/400\n",
      "15117/15117 [==============================] - 0s 30us/sample - loss: 31186123125.1026 - val_loss: 29463376524.3259\n",
      "Epoch 211/400\n",
      "15117/15117 [==============================] - 0s 30us/sample - loss: 31203427882.7090 - val_loss: 29419292950.1235\n",
      "Epoch 212/400\n",
      "15117/15117 [==============================] - 0s 31us/sample - loss: 31160398005.5387 - val_loss: 29447100648.6123\n",
      "Epoch 213/400\n",
      "15117/15117 [==============================] - 0s 31us/sample - loss: 31163589366.1610 - val_loss: 29360572471.6247\n",
      "Epoch 214/400\n",
      "15117/15117 [==============================] - 0s 31us/sample - loss: 31175956978.0798 - val_loss: 29362455488.7901\n",
      "Epoch 215/400\n",
      "15117/15117 [==============================] - 0s 32us/sample - loss: 31139086477.4037 - val_loss: 29324540571.4963\n",
      "Epoch 216/400\n",
      "15117/15117 [==============================] - 0s 31us/sample - loss: 31168428332.8936 - val_loss: 29307603707.5753\n",
      "Epoch 217/400\n",
      "15117/15117 [==============================] - 0s 31us/sample - loss: 31100842905.8845 - val_loss: 29311403996.6025\n",
      "Epoch 218/400\n",
      "15117/15117 [==============================] - 0s 31us/sample - loss: 31096084073.1637 - val_loss: 29247715408.9086\n",
      "Epoch 219/400\n",
      "15117/15117 [==============================] - 0s 31us/sample - loss: 31078436618.1099 - val_loss: 29307054186.1926\n",
      "Epoch 220/400\n",
      "15117/15117 [==============================] - 0s 29us/sample - loss: 31113195394.0067 - val_loss: 29255351586.7654\n",
      "Epoch 221/400\n",
      "15117/15117 [==============================] - 0s 29us/sample - loss: 31038863426.2481 - val_loss: 29289040913.6988\n",
      "Epoch 222/400\n",
      "15117/15117 [==============================] - 0s 28us/sample - loss: 31065335597.8758 - val_loss: 29197224350.6568\n",
      "Epoch 223/400\n",
      "15117/15117 [==============================] - 0s 29us/sample - loss: 31049013003.3292 - val_loss: 29180940753.2247\n",
      "Epoch 224/400\n",
      "15117/15117 [==============================] - 0s 29us/sample - loss: 31011394357.8012 - val_loss: 29183364376.6519\n",
      "Epoch 225/400\n",
      "15117/15117 [==============================] - 0s 30us/sample - loss: 31009110170.3079 - val_loss: 29166216052.9383\n",
      "Epoch 226/400\n",
      "15117/15117 [==============================] - 0s 30us/sample - loss: 30991169833.3712 - val_loss: 29129390196.3062\n",
      "Epoch 227/400\n",
      "15117/15117 [==============================] - 0s 30us/sample - loss: 30955134275.1795 - val_loss: 29168627206.3210\n",
      "Epoch 228/400\n",
      "15117/15117 [==============================] - 0s 31us/sample - loss: 30972989938.1475 - val_loss: 29095230527.2099\n",
      "Epoch 229/400\n",
      "15117/15117 [==============================] - 0s 30us/sample - loss: 30935911154.7402 - val_loss: 29062870974.2617\n",
      "Epoch 230/400\n",
      "15117/15117 [==============================] - 0s 30us/sample - loss: 30966967137.5601 - val_loss: 29072137132.5630\n",
      "Epoch 231/400\n",
      "15117/15117 [==============================] - 0s 30us/sample - loss: 30934263849.0494 - val_loss: 29077792934.8741\n",
      "Epoch 232/400\n",
      "15117/15117 [==============================] - 0s 31us/sample - loss: 30951193543.4385 - val_loss: 29036718843.5753\n",
      "Epoch 233/400\n",
      "15117/15117 [==============================] - 0s 31us/sample - loss: 30907780860.2913 - val_loss: 29055306602.8247\n",
      "Epoch 234/400\n",
      "15117/15117 [==============================] - 0s 31us/sample - loss: 30908139688.8039 - val_loss: 29068334750.0247\n",
      "Epoch 235/400\n",
      "15117/15117 [==============================] - 0s 30us/sample - loss: 30880531520.5885 - val_loss: 29076865883.6543\n",
      "Epoch 236/400\n",
      "15117/15117 [==============================] - 0s 31us/sample - loss: 30892924433.7813 - val_loss: 28990012691.5951\n",
      "Epoch 237/400\n",
      "15117/15117 [==============================] - 0s 31us/sample - loss: 30913217818.6720 - val_loss: 29022849737.0074\n",
      "Epoch 238/400\n",
      "15117/15117 [==============================] - 0s 30us/sample - loss: 30869432969.5765 - val_loss: 28984275833.9951\n",
      "Epoch 239/400\n",
      "15117/15117 [==============================] - 0s 31us/sample - loss: 30844492461.7826 - val_loss: 29027898274.4494\n",
      "Epoch 240/400\n",
      "15117/15117 [==============================] - 0s 29us/sample - loss: 30877600150.7685 - val_loss: 28917326668.4840\n",
      "Epoch 241/400\n",
      "15117/15117 [==============================] - 0s 30us/sample - loss: 30838539031.4544 - val_loss: 28937579547.8124\n",
      "Epoch 242/400\n",
      "15117/15117 [==============================] - 0s 30us/sample - loss: 30836094294.1462 - val_loss: 28918089960.6123\n",
      "Epoch 243/400\n",
      "15117/15117 [==============================] - 0s 30us/sample - loss: 30820474429.4725 - val_loss: 28923880526.3802\n",
      "Epoch 244/400\n",
      "15117/15117 [==============================] - 0s 30us/sample - loss: 30791297724.5496 - val_loss: 28927704506.4691\n",
      "Epoch 245/400\n",
      "15117/15117 [==============================] - 0s 30us/sample - loss: 30776971762.2830 - val_loss: 28920979187.9901\n",
      "Epoch 246/400\n",
      "15117/15117 [==============================] - 0s 29us/sample - loss: 30810719870.0271 - val_loss: 28826378032.6716\n",
      "Epoch 247/400\n",
      "15117/15117 [==============================] - 0s 33us/sample - loss: 30786589834.3894 - val_loss: 28845245280.7111\n",
      "Epoch 248/400\n",
      "15117/15117 [==============================] - 0s 31us/sample - loss: 30752859357.5720 - val_loss: 28896530866.8839\n",
      "Epoch 249/400\n",
      "15117/15117 [==============================] - 0s 32us/sample - loss: 30743007367.9169 - val_loss: 28828220620.8000\n",
      "Epoch 250/400\n",
      "15117/15117 [==============================] - 0s 31us/sample - loss: 30743307007.4750 - val_loss: 28843197821.7877\n",
      "Epoch 251/400\n",
      "15117/15117 [==============================] - 0s 32us/sample - loss: 30738173496.5276 - val_loss: 28910409819.0222\n",
      "Epoch 252/400\n",
      "15117/15117 [==============================] - 0s 32us/sample - loss: 30709724847.8825 - val_loss: 28780978894.0642\n",
      "Epoch 253/400\n"
     ]
    },
    {
     "name": "stdout",
     "output_type": "stream",
     "text": [
      "15117/15117 [==============================] - 0s 31us/sample - loss: 30699980916.9163 - val_loss: 28767405963.6938\n",
      "Epoch 254/400\n",
      "15117/15117 [==============================] - 0s 30us/sample - loss: 30784815715.5414 - val_loss: 28765749146.8642\n",
      "Epoch 255/400\n",
      "15117/15117 [==============================] - 0s 30us/sample - loss: 30698411408.6721 - val_loss: 28767947813.9259\n",
      "Epoch 256/400\n",
      "15117/15117 [==============================] - 0s 31us/sample - loss: 30691274141.4069 - val_loss: 28743678831.8815\n",
      "Epoch 257/400\n",
      "15117/15117 [==============================] - 0s 31us/sample - loss: 30662923306.2010 - val_loss: 28731330959.4864\n",
      "Epoch 258/400\n",
      "15117/15117 [==============================] - 0s 30us/sample - loss: 30647075310.6929 - val_loss: 28718044192.8691\n",
      "Epoch 259/400\n",
      "15117/15117 [==============================] - 0s 31us/sample - loss: 30650466935.6597 - val_loss: 28700459099.0222\n",
      "Epoch 260/400\n",
      "15117/15117 [==============================] - 0s 31us/sample - loss: 30642669077.4392 - val_loss: 28732034060.6420\n",
      "Epoch 261/400\n",
      "15117/15117 [==============================] - 0s 30us/sample - loss: 30638775841.1579 - val_loss: 28683741219.3975\n",
      "Epoch 262/400\n",
      "15117/15117 [==============================] - 0s 30us/sample - loss: 30612516805.7451 - val_loss: 28638874914.7654\n",
      "Epoch 263/400\n",
      "15117/15117 [==============================] - 0s 30us/sample - loss: 30623888283.8828 - val_loss: 28666875772.5235\n",
      "Epoch 264/400\n",
      "15117/15117 [==============================] - 0s 30us/sample - loss: 30600157257.2929 - val_loss: 28648576245.2543\n",
      "Epoch 265/400\n",
      "15117/15117 [==============================] - 0s 30us/sample - loss: 30612625146.6656 - val_loss: 28673636468.3062\n",
      "Epoch 266/400\n",
      "15117/15117 [==============================] - 0s 30us/sample - loss: 30597887968.0953 - val_loss: 28632066553.6790\n",
      "Epoch 267/400\n",
      "15117/15117 [==============================] - 0s 30us/sample - loss: 30594939826.8461 - val_loss: 28615598302.4988\n",
      "Epoch 268/400\n",
      "15117/15117 [==============================] - 0s 31us/sample - loss: 30570851277.9414 - val_loss: 28605262132.4642\n",
      "Epoch 269/400\n",
      "15117/15117 [==============================] - 0s 31us/sample - loss: 30629578067.9786 - val_loss: 28625057554.3309\n",
      "Epoch 270/400\n",
      "15117/15117 [==============================] - 0s 33us/sample - loss: 30580124565.1767 - val_loss: 28611176397.4321\n",
      "Epoch 271/400\n",
      "15117/15117 [==============================] - 0s 31us/sample - loss: 30558757028.4686 - val_loss: 28650126515.5160\n",
      "Epoch 272/400\n",
      "15117/15117 [==============================] - 0s 29us/sample - loss: 30552331283.9151 - val_loss: 28577262473.1654\n",
      "Epoch 273/400\n",
      "15117/15117 [==============================] - 0s 30us/sample - loss: 30549244452.2739 - val_loss: 28594315759.5654\n",
      "Epoch 274/400\n",
      "15117/15117 [==============================] - 0s 30us/sample - loss: 30522792947.0620 - val_loss: 28603815829.8074\n",
      "Epoch 275/400\n",
      "15117/15117 [==============================] - 0s 30us/sample - loss: 30538239457.5516 - val_loss: 28495650062.5383\n",
      "Epoch 276/400\n",
      "15117/15117 [==============================] - 0s 30us/sample - loss: 30510745874.6111 - val_loss: 28528056734.6568\n",
      "Epoch 277/400\n",
      "15117/15117 [==============================] - 0s 30us/sample - loss: 30495735514.6931 - val_loss: 28498271775.6049\n",
      "Epoch 278/400\n",
      "15117/15117 [==============================] - 0s 31us/sample - loss: 30502807216.8309 - val_loss: 28492827498.8247\n",
      "Epoch 279/400\n",
      "15117/15117 [==============================] - 0s 30us/sample - loss: 30483478637.6006 - val_loss: 28492207779.0815\n",
      "Epoch 280/400\n",
      "15117/15117 [==============================] - 0s 31us/sample - loss: 30492345675.3081 - val_loss: 28554734720.9481\n",
      "Epoch 281/400\n",
      "15117/15117 [==============================] - 0s 30us/sample - loss: 30456155956.9544 - val_loss: 28450593673.1654\n",
      "Epoch 282/400\n",
      "15117/15117 [==============================] - 0s 31us/sample - loss: 30470065209.0695 - val_loss: 28418535793.1457\n",
      "Epoch 283/400\n",
      "15117/15117 [==============================] - 0s 30us/sample - loss: 30451187787.1895 - val_loss: 28459365181.3136\n",
      "Epoch 284/400\n",
      "15117/15117 [==============================] - 0s 31us/sample - loss: 30443913453.0841 - val_loss: 28477111050.7457\n",
      "Epoch 285/400\n",
      "15117/15117 [==============================] - 0s 31us/sample - loss: 30410785827.2917 - val_loss: 28444461627.4173\n",
      "Epoch 286/400\n",
      "15117/15117 [==============================] - 0s 32us/sample - loss: 30495622087.7772 - val_loss: 28393274340.1876\n",
      "Epoch 287/400\n",
      "15117/15117 [==============================] - 0s 31us/sample - loss: 30419225409.8586 - val_loss: 28411381532.4444\n",
      "Epoch 288/400\n",
      "15117/15117 [==============================] - 0s 31us/sample - loss: 30446879428.5427 - val_loss: 28368274237.3136\n",
      "Epoch 289/400\n",
      "15117/15117 [==============================] - 0s 31us/sample - loss: 30457497276.2786 - val_loss: 28515653854.4988\n",
      "Epoch 290/400\n",
      "15117/15117 [==============================] - 0s 32us/sample - loss: 30424837995.7208 - val_loss: 28392728196.7407\n",
      "Epoch 291/400\n",
      "15117/15117 [==============================] - 0s 31us/sample - loss: 30381341669.2434 - val_loss: 28323793214.5778\n",
      "Epoch 292/400\n",
      "15117/15117 [==============================] - 0s 31us/sample - loss: 30368060050.4164 - val_loss: 28384958787.6346\n",
      "Epoch 293/400\n",
      "15117/15117 [==============================] - 0s 30us/sample - loss: 30363338232.4472 - val_loss: 28329444582.0840\n",
      "Epoch 294/400\n",
      "15117/15117 [==============================] - 0s 30us/sample - loss: 30371952618.3237 - val_loss: 28293500391.9802\n",
      "Epoch 295/400\n",
      "15117/15117 [==============================] - 0s 31us/sample - loss: 30332851704.4472 - val_loss: 28261624986.2321\n",
      "Epoch 296/400\n",
      "15117/15117 [==============================] - 0s 29us/sample - loss: 30369987379.2271 - val_loss: 28325489074.8839\n",
      "Epoch 297/400\n",
      "15117/15117 [==============================] - 0s 30us/sample - loss: 30374965431.9772 - val_loss: 28457082500.7407\n",
      "Epoch 298/400\n",
      "15117/15117 [==============================] - 0s 30us/sample - loss: 30312921906.6852 - val_loss: 28271433480.2173\n",
      "Epoch 299/400\n",
      "15117/15117 [==============================] - 0s 31us/sample - loss: 30351981025.3484 - val_loss: 28260994323.5951\n",
      "Epoch 300/400\n",
      "15117/15117 [==============================] - 0s 30us/sample - loss: 30307197599.1512 - val_loss: 28213239277.0370\n",
      "Epoch 301/400\n",
      "15117/15117 [==============================] - 0s 31us/sample - loss: 30321961906.3042 - val_loss: 28243246739.9111\n",
      "Epoch 302/400\n",
      "15117/15117 [==============================] - 0s 30us/sample - loss: 30307210570.2243 - val_loss: 28189568356.5037\n",
      "Epoch 303/400\n",
      "15117/15117 [==============================] - 0s 30us/sample - loss: 30266525939.4515 - val_loss: 28218858842.3901\n",
      "Epoch 304/400\n",
      "15117/15117 [==============================] - 0s 30us/sample - loss: 30285584140.6840 - val_loss: 28211053666.6074\n",
      "Epoch 305/400\n",
      "15117/15117 [==============================] - 0s 31us/sample - loss: 30316419992.2927 - val_loss: 28166787759.7235\n",
      "Epoch 306/400\n",
      "15117/15117 [==============================] - 0s 31us/sample - loss: 30275474094.8664 - val_loss: 28185604070.7160\n",
      "Epoch 307/400\n",
      "15117/15117 [==============================] - 0s 31us/sample - loss: 30285998173.8853 - val_loss: 28229794540.4049\n",
      "Epoch 308/400\n",
      "15117/15117 [==============================] - 0s 30us/sample - loss: 30300898284.1527 - val_loss: 28122357122.8444\n",
      "Epoch 309/400\n",
      "15117/15117 [==============================] - 0s 30us/sample - loss: 30191948385.3400 - val_loss: 28171335978.3506\n",
      "Epoch 310/400\n",
      "15117/15117 [==============================] - 0s 30us/sample - loss: 30219480567.2956 - val_loss: 28162702540.8000\n",
      "Epoch 311/400\n",
      "15117/15117 [==============================] - 0s 31us/sample - loss: 30223888568.2482 - val_loss: 28182179425.3432\n",
      "Epoch 312/400\n",
      "15117/15117 [==============================] - 0s 31us/sample - loss: 30206053953.0965 - val_loss: 28116776004.2667\n",
      "Epoch 313/400\n",
      "15117/15117 [==============================] - 0s 30us/sample - loss: 30210664878.1383 - val_loss: 28109179633.4617\n",
      "Epoch 314/400\n",
      "15117/15117 [==============================] - 0s 31us/sample - loss: 30251685143.5560 - val_loss: 28067571636.1481\n",
      "Epoch 315/400\n",
      "15117/15117 [==============================] - 0s 30us/sample - loss: 30176523748.3966 - val_loss: 28060138093.9852\n",
      "Epoch 316/400\n"
     ]
    },
    {
     "name": "stdout",
     "output_type": "stream",
     "text": [
      "15117/15117 [==============================] - 0s 30us/sample - loss: 30196225591.1390 - val_loss: 28071029064.6914\n",
      "Epoch 317/400\n",
      "15117/15117 [==============================] - 0s 29us/sample - loss: 30181444835.1265 - val_loss: 28039670811.8124\n",
      "Epoch 318/400\n",
      "15117/15117 [==============================] - 0s 29us/sample - loss: 30164674034.0798 - val_loss: 28013854001.9358\n",
      "Epoch 319/400\n",
      "15117/15117 [==============================] - 0s 29us/sample - loss: 30142643097.2410 - val_loss: 28088446005.0963\n",
      "Epoch 320/400\n",
      "15117/15117 [==============================] - 0s 29us/sample - loss: 30182051394.5529 - val_loss: 28031359112.5333\n",
      "Epoch 321/400\n",
      "15117/15117 [==============================] - 0s 29us/sample - loss: 30158553533.7858 - val_loss: 27982387098.8642\n",
      "Epoch 322/400\n",
      "15117/15117 [==============================] - 0s 29us/sample - loss: 30126931989.1174 - val_loss: 28116641786.9432\n",
      "Epoch 323/400\n",
      "15117/15117 [==============================] - 0s 31us/sample - loss: 30131496556.9571 - val_loss: 27971846841.8370\n",
      "Epoch 324/400\n",
      "15117/15117 [==============================] - 0s 30us/sample - loss: 30111570556.5369 - val_loss: 28027557781.8074\n",
      "Epoch 325/400\n",
      "15117/15117 [==============================] - 0s 32us/sample - loss: 30083579205.4826 - val_loss: 27943602140.6025\n",
      "Epoch 326/400\n",
      "15117/15117 [==============================] - 0s 32us/sample - loss: 30106856391.9127 - val_loss: 28011590678.7556\n",
      "Epoch 327/400\n",
      "15117/15117 [==============================] - 0s 32us/sample - loss: 30103518290.2343 - val_loss: 27990734236.1284\n",
      "Epoch 328/400\n",
      "15117/15117 [==============================] - 0s 31us/sample - loss: 30071381187.1541 - val_loss: 27972456483.3975\n",
      "Epoch 329/400\n",
      "15117/15117 [==============================] - 0s 32us/sample - loss: 30061462016.9145 - val_loss: 27917078533.0568\n",
      "Epoch 330/400\n",
      "15117/15117 [==============================] - 0s 29us/sample - loss: 30084202542.8072 - val_loss: 27886617875.5951\n",
      "Epoch 331/400\n",
      "15117/15117 [==============================] - 0s 29us/sample - loss: 30054005089.4585 - val_loss: 27899017736.8494\n",
      "Epoch 332/400\n",
      "15117/15117 [==============================] - 0s 29us/sample - loss: 30067417554.3105 - val_loss: 27967631916.2469\n",
      "Epoch 333/400\n",
      "15117/15117 [==============================] - 0s 29us/sample - loss: 30060263486.7934 - val_loss: 27925477507.4765\n",
      "Epoch 334/400\n",
      "15117/15117 [==============================] - 0s 29us/sample - loss: 30042906317.1455 - val_loss: 27926792581.3728\n",
      "Epoch 335/400\n",
      "15117/15117 [==============================] - 0s 28us/sample - loss: 30045145338.0221 - val_loss: 27855642128.4346\n",
      "Epoch 336/400\n",
      "15117/15117 [==============================] - 0s 29us/sample - loss: 30039000883.4981 - val_loss: 27971330846.9728\n",
      "Epoch 337/400\n",
      "15117/15117 [==============================] - 0s 29us/sample - loss: 30042441271.9857 - val_loss: 27865331454.1037\n",
      "Epoch 338/400\n",
      "15117/15117 [==============================] - 0s 32us/sample - loss: 29970470346.0464 - val_loss: 27890450199.3877\n",
      "Epoch 339/400\n",
      "15117/15117 [==============================] - 0s 30us/sample - loss: 30022167763.9532 - val_loss: 27830600772.2667\n",
      "Epoch 340/400\n",
      "15117/15117 [==============================] - 0s 30us/sample - loss: 29982056498.3973 - val_loss: 27845324597.7284\n",
      "Epoch 341/400\n",
      "15117/15117 [==============================] - 0s 31us/sample - loss: 29979197261.7128 - val_loss: 27874733220.3457\n",
      "Epoch 342/400\n",
      "15117/15117 [==============================] - 0s 30us/sample - loss: 30015644615.0321 - val_loss: 27896865445.6099\n",
      "Epoch 343/400\n",
      "15117/15117 [==============================] - 0s 30us/sample - loss: 29948123954.6852 - val_loss: 27770837613.9852\n",
      "Epoch 344/400\n",
      "15117/15117 [==============================] - 0s 30us/sample - loss: 29939200766.3912 - val_loss: 27899243896.7309\n",
      "Epoch 345/400\n",
      "15117/15117 [==============================] - 0s 30us/sample - loss: 29965361349.3894 - val_loss: 27729946447.0123\n",
      "Epoch 346/400\n",
      "15117/15117 [==============================] - 0s 30us/sample - loss: 29983482849.5855 - val_loss: 27812502045.0765\n",
      "Epoch 347/400\n",
      "15117/15117 [==============================] - 0s 30us/sample - loss: 29944430883.2747 - val_loss: 27733019220.7012\n",
      "Epoch 348/400\n",
      "15117/15117 [==============================] - 0s 28us/sample - loss: 29911806184.2069 - val_loss: 27720304088.8099\n",
      "Epoch 349/400\n",
      "15117/15117 [==============================] - 0s 29us/sample - loss: 29916793120.0910 - val_loss: 27772899338.1136\n",
      "Epoch 350/400\n",
      "15117/15117 [==============================] - 0s 28us/sample - loss: 29886968642.3666 - val_loss: 27707510976.1580\n",
      "Epoch 351/400\n",
      "15117/15117 [==============================] - 0s 29us/sample - loss: 29892543767.0141 - val_loss: 27670264819.3580\n",
      "Epoch 352/400\n",
      "15117/15117 [==============================] - 0s 29us/sample - loss: 29911945940.5289 - val_loss: 27668865276.8395\n",
      "Epoch 353/400\n",
      "15117/15117 [==============================] - 0s 29us/sample - loss: 29895234730.0909 - val_loss: 27650880428.5630\n",
      "Epoch 354/400\n",
      "15117/15117 [==============================] - 0s 30us/sample - loss: 29869213564.1813 - val_loss: 27656164339.3580\n",
      "Epoch 355/400\n",
      "15117/15117 [==============================] - 0s 30us/sample - loss: 29847810838.8617 - val_loss: 27651587706.6272\n",
      "Epoch 356/400\n",
      "15117/15117 [==============================] - 0s 31us/sample - loss: 29879183706.9556 - val_loss: 27689314445.5901\n",
      "Epoch 357/400\n",
      "15117/15117 [==============================] - 0s 31us/sample - loss: 29837646445.7022 - val_loss: 27645043699.3580\n",
      "Epoch 358/400\n",
      "15117/15117 [==============================] - 0s 31us/sample - loss: 29820137231.1226 - val_loss: 27605375628.3259\n",
      "Epoch 359/400\n",
      "15117/15117 [==============================] - 0s 30us/sample - loss: 29866508339.7521 - val_loss: 27656998527.6840\n",
      "Epoch 360/400\n",
      "15117/15117 [==============================] - 0s 30us/sample - loss: 29831102406.7611 - val_loss: 27708016174.7753\n",
      "Epoch 361/400\n",
      "15117/15117 [==============================] - 0s 30us/sample - loss: 29850675281.1505 - val_loss: 27575782574.4593\n",
      "Epoch 362/400\n",
      "15117/15117 [==============================] - 0s 29us/sample - loss: 29838686792.2090 - val_loss: 27621221252.1086\n",
      "Epoch 363/400\n",
      "15117/15117 [==============================] - 0s 29us/sample - loss: 29837482779.9251 - val_loss: 27570104466.6469\n",
      "Epoch 364/400\n",
      "15117/15117 [==============================] - 0s 29us/sample - loss: 29761243712.2498 - val_loss: 27551658252.0099\n",
      "Epoch 365/400\n",
      "15117/15117 [==============================] - 0s 29us/sample - loss: 29759890355.6589 - val_loss: 27610040557.6691\n",
      "Epoch 366/400\n",
      "15117/15117 [==============================] - 0s 29us/sample - loss: 29756616871.5846 - val_loss: 27551931617.0272\n",
      "Epoch 367/400\n",
      "15117/15117 [==============================] - 0s 30us/sample - loss: 29794938720.9505 - val_loss: 27513161935.3284\n",
      "Epoch 368/400\n",
      "15117/15117 [==============================] - 0s 30us/sample - loss: 29759225656.2397 - val_loss: 27584732213.0963\n",
      "Epoch 369/400\n",
      "15117/15117 [==============================] - 0s 31us/sample - loss: 29750751749.3852 - val_loss: 27528042243.1605\n",
      "Epoch 370/400\n",
      "15117/15117 [==============================] - 0s 30us/sample - loss: 29738271635.1445 - val_loss: 27491879670.5185\n",
      "Epoch 371/400\n",
      "15117/15117 [==============================] - 0s 31us/sample - loss: 29736725073.9972 - val_loss: 27481898370.8444\n",
      "Epoch 372/400\n",
      "15117/15117 [==============================] - 0s 31us/sample - loss: 29739149582.4113 - val_loss: 27459550797.1161\n",
      "Epoch 373/400\n",
      "15117/15117 [==============================] - 0s 30us/sample - loss: 29765691533.0312 - val_loss: 27474700222.2617\n",
      "Epoch 374/400\n",
      "15117/15117 [==============================] - 0s 30us/sample - loss: 29737845145.2749 - val_loss: 27520643001.2049\n",
      "Epoch 375/400\n",
      "15117/15117 [==============================] - 0s 29us/sample - loss: 29712368867.1265 - val_loss: 27436786442.7457\n",
      "Epoch 376/400\n",
      "15117/15117 [==============================] - 0s 29us/sample - loss: 29686936160.4932 - val_loss: 27421665972.7802\n",
      "Epoch 377/400\n",
      "15117/15117 [==============================] - 0s 28us/sample - loss: 29691249313.5897 - val_loss: 27397957672.4543\n",
      "Epoch 378/400\n",
      "15117/15117 [==============================] - 0s 29us/sample - loss: 29716467496.9986 - val_loss: 27413591487.5259\n",
      "Epoch 379/400\n"
     ]
    },
    {
     "name": "stdout",
     "output_type": "stream",
     "text": [
      "15117/15117 [==============================] - 0s 28us/sample - loss: 29664022729.3860 - val_loss: 27413461356.0889\n",
      "Epoch 380/400\n",
      "15117/15117 [==============================] - 0s 29us/sample - loss: 29663496121.4844 - val_loss: 27440682517.4914\n",
      "Epoch 381/400\n",
      "15117/15117 [==============================] - 0s 30us/sample - loss: 29672207431.0575 - val_loss: 27406510914.3704\n",
      "Epoch 382/400\n",
      "15117/15117 [==============================] - 0s 30us/sample - loss: 29633264317.7011 - val_loss: 27404573293.9852\n",
      "Epoch 383/400\n",
      "15117/15117 [==============================] - 0s 31us/sample - loss: 29645137028.0897 - val_loss: 27372536799.1309\n",
      "Epoch 384/400\n",
      "15117/15117 [==============================] - 0s 30us/sample - loss: 29638090499.5055 - val_loss: 27346056907.5358\n",
      "Epoch 385/400\n",
      "15117/15117 [==============================] - 0s 30us/sample - loss: 29646437921.4966 - val_loss: 27353339433.7185\n",
      "Epoch 386/400\n",
      "15117/15117 [==============================] - 0s 30us/sample - loss: 29589080662.2647 - val_loss: 27476203919.4864\n",
      "Epoch 387/400\n",
      "15117/15117 [==============================] - 0s 30us/sample - loss: 29619703825.1209 - val_loss: 27359063017.2444\n",
      "Epoch 388/400\n",
      "15117/15117 [==============================] - 0s 29us/sample - loss: 29570345575.0638 - val_loss: 27276326603.5358\n",
      "Epoch 389/400\n",
      "15117/15117 [==============================] - 0s 30us/sample - loss: 29563479066.7566 - val_loss: 27275442282.1926\n",
      "Epoch 390/400\n",
      "15117/15117 [==============================] - 0s 30us/sample - loss: 29547251895.5708 - val_loss: 27260405770.1136\n",
      "Epoch 391/400\n",
      "15117/15117 [==============================] - 0s 29us/sample - loss: 29527273450.6624 - val_loss: 27315928132.2667\n",
      "Epoch 392/400\n",
      "15117/15117 [==============================] - 0s 28us/sample - loss: 29551728699.7452 - val_loss: 27283097357.2741\n",
      "Epoch 393/400\n",
      "15117/15117 [==============================] - 0s 28us/sample - loss: 29585010325.6001 - val_loss: 27235818837.3333\n",
      "Epoch 394/400\n",
      "15117/15117 [==============================] - 0s 29us/sample - loss: 29528124469.1746 - val_loss: 27232709280.5531\n",
      "Epoch 395/400\n",
      "15117/15117 [==============================] - 0s 29us/sample - loss: 29536789309.8620 - val_loss: 27384516881.0667\n",
      "Epoch 396/400\n",
      "15117/15117 [==============================] - 0s 30us/sample - loss: 29511369551.1353 - val_loss: 27283548964.0296\n",
      "Epoch 397/400\n",
      "15117/15117 [==============================] - 0s 30us/sample - loss: 29527831024.9282 - val_loss: 27322422856.0593\n",
      "Epoch 398/400\n",
      "15117/15117 [==============================] - 0s 31us/sample - loss: 29536568482.6735 - val_loss: 27201652154.4691\n",
      "Epoch 399/400\n",
      "15117/15117 [==============================] - 0s 31us/sample - loss: 29470136800.9420 - val_loss: 27261741349.2938\n",
      "Epoch 400/400\n",
      "15117/15117 [==============================] - 0s 31us/sample - loss: 29510179725.1836 - val_loss: 27150123584.4741\n"
     ]
    },
    {
     "data": {
      "text/plain": [
       "<tensorflow.python.keras.callbacks.History at 0x7fe982e76f10>"
      ]
     },
     "execution_count": 66,
     "metadata": {},
     "output_type": "execute_result"
    }
   ],
   "source": [
    "model.fit(x=X_train,y=y_train.values,\n",
    "          validation_data=(X_test,y_test.values),\n",
    "          batch_size=128,epochs=400)"
   ]
  },
  {
   "cell_type": "code",
   "execution_count": 67,
   "id": "9d5e1a66",
   "metadata": {},
   "outputs": [
    {
     "data": {
      "text/plain": [
       "<AxesSubplot:>"
      ]
     },
     "execution_count": 67,
     "metadata": {},
     "output_type": "execute_result"
    },
    {
     "data": {
      "image/png": "[encoded data removed]",
      "text/plain": [
       "<Figure size 432x288 with 1 Axes>"
      ]
     },
     "metadata": {
      "needs_background": "light"
     },
     "output_type": "display_data"
    }
   ],
   "source": [
    "losses = pd.DataFrame(model.history.history)\n",
    "losses.plot()"
   ]
  },
  {
   "cell_type": "code",
   "execution_count": 68,
   "id": "bf4ddda7",
   "metadata": {},
   "outputs": [],
   "source": [
    "predictions = model.predict(X_test)"
   ]
  },
  {
   "cell_type": "code",
   "execution_count": null,
   "id": "4d233ad0",
   "metadata": {},
   "outputs": [],
   "source": []
  },
  {
   "cell_type": "code",
   "execution_count": null,
   "id": "108f5bd7",
   "metadata": {},
   "outputs": [],
   "source": []
  }
 ],
 "metadata": {
  "kernelspec": {
   "display_name": "Python 3 (ipykernel)",
   "language": "python",
   "name": "python3"
  },
  "language_info": {
   "codemirror_mode": {
    "name": "ipython",
    "version": 3
   },
   "file_extension": ".py",
   "mimetype": "text/x-python",
   "name": "python",
   "nbconvert_exporter": "python",
   "pygments_lexer": "ipython3",
   "version": "3.7.11"
  }
 },
 "nbformat": 4,
 "nbformat_minor": 5
}
